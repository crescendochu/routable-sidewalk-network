{
 "cells": [
  {
   "cell_type": "code",
   "execution_count": 4,
   "metadata": {},
   "outputs": [],
   "source": [
    "import madina as md\n",
    "import madina.una.tools as una\n",
    "import pandas as pd\n",
    "import geopandas as gpd\n",
    "pd.set_option('display.max_columns', None)"
   ]
  },
  {
   "cell_type": "code",
   "execution_count": 5,
   "metadata": {},
   "outputs": [],
   "source": [
    "from madina.una.workflows import KNN_accessibility"
   ]
  },
  {
   "cell_type": "code",
   "execution_count": 6,
   "metadata": {},
   "outputs": [],
   "source": [
    "# read in pairsings_baseline.csv\n",
    "pairing_table = pd.read_csv('baseline/pairings_baseline.csv')"
   ]
  },
  {
   "cell_type": "code",
   "execution_count": 10,
   "metadata": {},
   "outputs": [
    {
     "data": {
      "text/html": [
       "<div>\n",
       "<style scoped>\n",
       "    .dataframe tbody tr th:only-of-type {\n",
       "        vertical-align: middle;\n",
       "    }\n",
       "\n",
       "    .dataframe tbody tr th {\n",
       "        vertical-align: top;\n",
       "    }\n",
       "\n",
       "    .dataframe thead th {\n",
       "        text-align: right;\n",
       "    }\n",
       "</style>\n",
       "<table border=\"1\" class=\"dataframe\">\n",
       "  <thead>\n",
       "    <tr style=\"text-align: right;\">\n",
       "      <th></th>\n",
       "      <th>Unnamed: 0</th>\n",
       "      <th>Network_File</th>\n",
       "      <th>Network_Cost</th>\n",
       "      <th>Flow_Name</th>\n",
       "      <th>Origin_File</th>\n",
       "      <th>Origin_Name</th>\n",
       "      <th>Origin_Weight</th>\n",
       "      <th>Destination_File</th>\n",
       "      <th>Destination_Name</th>\n",
       "      <th>Destination_Weight</th>\n",
       "      <th>Radius</th>\n",
       "      <th>Beta</th>\n",
       "      <th>KNN_Weight</th>\n",
       "      <th>Plateau</th>\n",
       "      <th>Turns</th>\n",
       "      <th>Turn_Threshold</th>\n",
       "      <th>Turn_Penalty</th>\n",
       "      <th>Detour</th>\n",
       "      <th>Elastic_Weights</th>\n",
       "      <th>Decay</th>\n",
       "      <th>Decay_Mode</th>\n",
       "      <th>Closest_destination</th>\n",
       "    </tr>\n",
       "  </thead>\n",
       "  <tbody>\n",
       "    <tr>\n",
       "      <th>0</th>\n",
       "      <td>0</td>\n",
       "      <td>2024-08-19 sidewalk_network_issue_type_issue_l...</td>\n",
       "      <td>Geometric</td>\n",
       "      <td>home_grocery</td>\n",
       "      <td>homepoints.geojson</td>\n",
       "      <td>homes</td>\n",
       "      <td>Count</td>\n",
       "      <td>grocery.geojson</td>\n",
       "      <td>grocery</td>\n",
       "      <td>Count</td>\n",
       "      <td>2500</td>\n",
       "      <td>0.00328</td>\n",
       "      <td>[3]</td>\n",
       "      <td>0</td>\n",
       "      <td>False</td>\n",
       "      <td>0</td>\n",
       "      <td>0</td>\n",
       "      <td>1.0</td>\n",
       "      <td>False</td>\n",
       "      <td>True</td>\n",
       "      <td>exponent</td>\n",
       "      <td>False</td>\n",
       "    </tr>\n",
       "    <tr>\n",
       "      <th>1</th>\n",
       "      <td>1</td>\n",
       "      <td>2024-08-19 sidewalk_network_issue_type_issue_l...</td>\n",
       "      <td>Geometric</td>\n",
       "      <td>home_retail</td>\n",
       "      <td>homepoints.geojson</td>\n",
       "      <td>homes</td>\n",
       "      <td>Count</td>\n",
       "      <td>retail.geojson</td>\n",
       "      <td>retail no grocery</td>\n",
       "      <td>Count</td>\n",
       "      <td>2500</td>\n",
       "      <td>0.00328</td>\n",
       "      <td>[0.5, 0.45, 0.4, 0.35, 0.3]</td>\n",
       "      <td>0</td>\n",
       "      <td>False</td>\n",
       "      <td>0</td>\n",
       "      <td>0</td>\n",
       "      <td>1.0</td>\n",
       "      <td>False</td>\n",
       "      <td>True</td>\n",
       "      <td>exponent</td>\n",
       "      <td>False</td>\n",
       "    </tr>\n",
       "    <tr>\n",
       "      <th>2</th>\n",
       "      <td>2</td>\n",
       "      <td>2024-08-19 sidewalk_network_issue_type_issue_l...</td>\n",
       "      <td>Geometric</td>\n",
       "      <td>home_food</td>\n",
       "      <td>homepoints.geojson</td>\n",
       "      <td>homes</td>\n",
       "      <td>Count</td>\n",
       "      <td>food.geojson</td>\n",
       "      <td>eating places</td>\n",
       "      <td>Count</td>\n",
       "      <td>2500</td>\n",
       "      <td>0.00328</td>\n",
       "      <td>[0.75, 0.45, 0.25, 0.25, 0.225, 0.225, 0.225, ...</td>\n",
       "      <td>0</td>\n",
       "      <td>False</td>\n",
       "      <td>0</td>\n",
       "      <td>0</td>\n",
       "      <td>1.0</td>\n",
       "      <td>False</td>\n",
       "      <td>True</td>\n",
       "      <td>exponent</td>\n",
       "      <td>False</td>\n",
       "    </tr>\n",
       "    <tr>\n",
       "      <th>3</th>\n",
       "      <td>3</td>\n",
       "      <td>2024-08-19 sidewalk_network_issue_type_issue_l...</td>\n",
       "      <td>Geometric</td>\n",
       "      <td>home_drink</td>\n",
       "      <td>homepoints.geojson</td>\n",
       "      <td>homes</td>\n",
       "      <td>Count</td>\n",
       "      <td>drink.geojson</td>\n",
       "      <td>drinking places</td>\n",
       "      <td>Count</td>\n",
       "      <td>2500</td>\n",
       "      <td>0.00328</td>\n",
       "      <td>[0.5, 0.45, 0.4, 0.35, 0.3]</td>\n",
       "      <td>0</td>\n",
       "      <td>False</td>\n",
       "      <td>0</td>\n",
       "      <td>0</td>\n",
       "      <td>1.0</td>\n",
       "      <td>False</td>\n",
       "      <td>True</td>\n",
       "      <td>exponent</td>\n",
       "      <td>False</td>\n",
       "    </tr>\n",
       "    <tr>\n",
       "      <th>4</th>\n",
       "      <td>4</td>\n",
       "      <td>2024-08-19 sidewalk_network_issue_type_issue_l...</td>\n",
       "      <td>Geometric</td>\n",
       "      <td>home_personal</td>\n",
       "      <td>homepoints.geojson</td>\n",
       "      <td>homes</td>\n",
       "      <td>Count</td>\n",
       "      <td>personal_service.geojson</td>\n",
       "      <td>personal services</td>\n",
       "      <td>Count</td>\n",
       "      <td>2500</td>\n",
       "      <td>0.00328</td>\n",
       "      <td>[0.5, 0.45, 0.4, 0.35, 0.3]</td>\n",
       "      <td>0</td>\n",
       "      <td>False</td>\n",
       "      <td>0</td>\n",
       "      <td>0</td>\n",
       "      <td>1.0</td>\n",
       "      <td>False</td>\n",
       "      <td>True</td>\n",
       "      <td>exponent</td>\n",
       "      <td>False</td>\n",
       "    </tr>\n",
       "  </tbody>\n",
       "</table>\n",
       "</div>"
      ],
      "text/plain": [
       "   Unnamed: 0                                       Network_File Network_Cost  \\\n",
       "0           0  2024-08-19 sidewalk_network_issue_type_issue_l...    Geometric   \n",
       "1           1  2024-08-19 sidewalk_network_issue_type_issue_l...    Geometric   \n",
       "2           2  2024-08-19 sidewalk_network_issue_type_issue_l...    Geometric   \n",
       "3           3  2024-08-19 sidewalk_network_issue_type_issue_l...    Geometric   \n",
       "4           4  2024-08-19 sidewalk_network_issue_type_issue_l...    Geometric   \n",
       "\n",
       "       Flow_Name         Origin_File Origin_Name Origin_Weight  \\\n",
       "0   home_grocery  homepoints.geojson       homes         Count   \n",
       "1    home_retail  homepoints.geojson       homes         Count   \n",
       "2      home_food  homepoints.geojson       homes         Count   \n",
       "3     home_drink  homepoints.geojson       homes         Count   \n",
       "4  home_personal  homepoints.geojson       homes         Count   \n",
       "\n",
       "           Destination_File   Destination_Name Destination_Weight  Radius  \\\n",
       "0           grocery.geojson           grocery               Count    2500   \n",
       "1            retail.geojson  retail no grocery              Count    2500   \n",
       "2              food.geojson      eating places              Count    2500   \n",
       "3             drink.geojson   drinking places               Count    2500   \n",
       "4  personal_service.geojson  personal services              Count    2500   \n",
       "\n",
       "      Beta                                         KNN_Weight  Plateau  Turns  \\\n",
       "0  0.00328                                                [3]        0  False   \n",
       "1  0.00328                        [0.5, 0.45, 0.4, 0.35, 0.3]        0  False   \n",
       "2  0.00328  [0.75, 0.45, 0.25, 0.25, 0.225, 0.225, 0.225, ...        0  False   \n",
       "3  0.00328                        [0.5, 0.45, 0.4, 0.35, 0.3]        0  False   \n",
       "4  0.00328                        [0.5, 0.45, 0.4, 0.35, 0.3]        0  False   \n",
       "\n",
       "   Turn_Threshold  Turn_Penalty  Detour  Elastic_Weights  Decay Decay_Mode  \\\n",
       "0               0             0     1.0            False   True   exponent   \n",
       "1               0             0     1.0            False   True   exponent   \n",
       "2               0             0     1.0            False   True   exponent   \n",
       "3               0             0     1.0            False   True   exponent   \n",
       "4               0             0     1.0            False   True   exponent   \n",
       "\n",
       "   Closest_destination  \n",
       "0                False  \n",
       "1                False  \n",
       "2                False  \n",
       "3                False  \n",
       "4                False  "
      ]
     },
     "execution_count": 10,
     "metadata": {},
     "output_type": "execute_result"
    }
   ],
   "source": [
    "pairing_table.head()"
   ]
  },
  {
   "cell_type": "code",
   "execution_count": 48,
   "metadata": {},
   "outputs": [],
   "source": [
    "#change Network_Cost values to length\n",
    "# pairing_table['Network_Cost'] = \"Geometric\""
   ]
  },
  {
   "cell_type": "code",
   "execution_count": 49,
   "metadata": {},
   "outputs": [],
   "source": [
    "#replace all the .feather in the pairing_table with .csv\n",
    "# pairing_table ['Network_File'] = pairing_table['Network_File'].str.replace('.feather', '.geojson')\n",
    "# pairing_table ['Origin_File'] = pairing_table['Origin_File'].str.replace('.feather', '.geojson')\n",
    "# pairing_table ['Destination_File'] = pairing_table['Destination_File'].str.replace('.feather', '.geojson')"
   ]
  },
  {
   "cell_type": "code",
   "execution_count": 8,
   "metadata": {},
   "outputs": [],
   "source": [
    "#change Beta value to 0.00328\n",
    "pairing_table['Beta'] = 0.00328"
   ]
  },
  {
   "cell_type": "code",
   "execution_count": 9,
   "metadata": {},
   "outputs": [],
   "source": [
    "#save the pairing_table to a csv file\n",
    "pairing_table.to_csv('baseline/pairings_baseline.csv', index=False)"
   ]
  },
  {
   "cell_type": "code",
   "execution_count": 11,
   "metadata": {},
   "outputs": [
    {
     "name": "stdout",
     "output_type": "stream",
     "text": [
      "total time | seconds elapsed |                flow_name                 | event\n",
      "    0.0000 |        0.000000 |                   ---                    | SIMULATION STARTED: VERSION: 0.0.15, RELEASE DATEL 2023-02-16\n",
      "    0.0119 |        0.011922 |                   ---                    | 3.10.6 | packaged by conda-forge | (main, Aug 22 2022, 20:43:44) [Clang 13.0.1 ]\n",
      "    0.0132 |        0.001322 |                   ---                    | Dependencies: Geopandas:1.0.1, Shapely:2.0.5, Pandas:2.2.2, Numpy:1.25.2, NetworkX:2.8.7\n",
      "    2.7864 |        2.773206 |           (1/13) home_grocery            | network FIle Loaded, Projection: EPSG:2285\n",
      "    6.4472 |        3.660764 |           (1/13) home_grocery            | network topology created\n",
      "    6.7521 |        0.304850 |           (1/13) home_grocery            | homes file homepoints.geojson Loaded, Projection: EPSG:2285\n",
      "    6.7575 |        0.005412 |           (1/13) home_grocery            | grocery  file grocery.geojson Loaded, Projection: EPSG:2285\n",
      "    7.4184 |        0.660885 |           (1/13) home_grocery            | Origins and Destinations Inserted.\n",
      "    7.8946 |        0.476220 |           (1/13) home_grocery            | NetworkX Graphs Created.\n",
      "   50.4902 |       42.595580 |           (1/13) home_grocery            | accissibility calculated.\n",
      "   50.5186 |        0.028462 |            (2/13) home_retail            | retail no grocery file retail.geojson Loaded, Projection: EPSG:2285\n",
      "   51.2424 |        0.723754 |            (2/13) home_retail            | Origins and Destinations Inserted.\n",
      "   51.7914 |        0.549068 |            (2/13) home_retail            | NetworkX Graphs Created.\n",
      "  124.6755 |       72.884034 |            (2/13) home_retail            | accissibility calculated.\n",
      "  124.7010 |        0.025494 |             (3/13) home_food             | eating places file food.geojson Loaded, Projection: EPSG:2285\n",
      "  125.3759 |        0.674966 |             (3/13) home_food             | Origins and Destinations Inserted.\n",
      "  125.9086 |        0.532671 |             (3/13) home_food             | NetworkX Graphs Created.\n",
      "  194.2096 |       68.300984 |             (3/13) home_food             | accissibility calculated.\n",
      "  194.2292 |        0.019565 |            (4/13) home_drink             | drinking places  file drink.geojson Loaded, Projection: EPSG:2285\n",
      "  194.8933 |        0.664118 |            (4/13) home_drink             | Origins and Destinations Inserted.\n",
      "  195.4056 |        0.512284 |            (4/13) home_drink             | NetworkX Graphs Created.\n",
      "  237.5038 |       42.098269 |            (4/13) home_drink             | accissibility calculated.\n",
      "  237.5248 |        0.020975 |           (5/13) home_personal           | personal services file personal_service.geojson Loaded, Projection: EPSG:2285\n",
      "  238.2193 |        0.694509 |           (5/13) home_personal           | Origins and Destinations Inserted.\n",
      "  238.7580 |        0.538705 |           (5/13) home_personal           | NetworkX Graphs Created.\n",
      "  292.9776 |       54.219622 |           (5/13) home_personal           | accissibility calculated.\n",
      "  292.9986 |        0.020964 |        (6/13) home_entertainment         | entertainment file entertainment.geojson Loaded, Projection: EPSG:2285\n",
      "  293.7376 |        0.738992 |        (6/13) home_entertainment         | Origins and Destinations Inserted.\n",
      "  294.2699 |        0.532298 |        (6/13) home_entertainment         | NetworkX Graphs Created.\n",
      "  343.9091 |       49.639200 |        (6/13) home_entertainment         | accissibility calculated.\n",
      "  343.9278 |        0.018679 |             (7/13) home_bank             | banks file bank.geojson Loaded, Projection: EPSG:2285\n",
      "  344.6154 |        0.687605 |             (7/13) home_bank             | Origins and Destinations Inserted.\n",
      "  345.1250 |        0.509670 |             (7/13) home_bank             | NetworkX Graphs Created.\n",
      "  392.9970 |       47.871916 |             (7/13) home_bank             | accissibility calculated.\n",
      "  393.0181 |        0.021165 |             (8/13) home_park             | parks file park.geojson Loaded, Projection: EPSG:2285\n",
      "  393.7034 |        0.685291 |             (8/13) home_park             | Origins and Destinations Inserted.\n",
      "  394.2078 |        0.504426 |             (8/13) home_park             | NetworkX Graphs Created.\n",
      "  450.7034 |       56.495517 |             (8/13) home_park             | accissibility calculated.\n",
      "  450.7195 |        0.016133 |            (9/13) home_school            | schools file school.geojson Loaded, Projection: EPSG:2285\n",
      "  451.3636 |        0.644069 |            (9/13) home_school            | Origins and Destinations Inserted.\n",
      "  451.8622 |        0.498661 |            (9/13) home_school            | NetworkX Graphs Created.\n",
      "  496.2970 |       44.434809 |            (9/13) home_school            | accissibility calculated.\n",
      "  496.3726 |        0.075562 |         (10/13) home_healthcare          | healthcare file healthcare.geojson Loaded, Projection: EPSG:2285\n",
      "  497.2400 |        0.867440 |         (10/13) home_healthcare          | Origins and Destinations Inserted.\n",
      "  498.0857 |        0.845666 |         (10/13) home_healthcare          | NetworkX Graphs Created.\n",
      "  694.4214 |      196.335720 |         (10/13) home_healthcare          | accissibility calculated.\n",
      "  694.4393 |        0.017901 |           (11/13) home_library           | libraries file library.geojson Loaded, Projection: EPSG:2285\n",
      "  695.0881 |        0.648732 |           (11/13) home_library           | Origins and Destinations Inserted.\n",
      "  695.5886 |        0.500503 |           (11/13) home_library           | NetworkX Graphs Created.\n",
      "  734.3709 |       38.782358 |           (11/13) home_library           | accissibility calculated.\n",
      "  734.3925 |        0.021578 |             (12/13) home_bus             | bus stops file bus_stop.geojson Loaded, Projection: EPSG:2285\n",
      "  735.0755 |        0.683038 |             (12/13) home_bus             | Origins and Destinations Inserted.\n",
      "  735.6187 |        0.543206 |             (12/13) home_bus             | NetworkX Graphs Created.\n",
      "  793.5396 |       57.920896 |             (12/13) home_bus             | accissibility calculated.\n",
      "  793.5575 |        0.017832 |            (13/13) home_metro            | metro stops file metro_stop.geojson Loaded, Projection: EPSG:2285\n",
      "  794.2710 |        0.713526 |            (13/13) home_metro            | Origins and Destinations Inserted.\n",
      "  794.7735 |        0.502534 |            (13/13) home_metro            | NetworkX Graphs Created.\n",
      "  835.6755 |       40.901965 |            (13/13) home_metro            | accissibility calculated.\n",
      "  839.6134 |        3.937906 |                   ---                    | Output saved: ALL DONE\n"
     ]
    }
   ],
   "source": [
    "KNN_accessibility(\n",
    "     city_name='seattle',\n",
    "     data_folder='baseline',\n",
    "     pairings_file=\"pairings_baseline.csv\",\n",
    "     num_cores=10,\n",
    " )"
   ]
  },
  {
   "cell_type": "code",
   "execution_count": 12,
   "metadata": {},
   "outputs": [],
   "source": [
    "# read the output\n",
    "baseline = gpd.read_file(\"Cities/seattle/KNN_workflow/2024-10-27 20-50/origin_record.geoJSON\")"
   ]
  },
  {
   "cell_type": "code",
   "execution_count": 14,
   "metadata": {},
   "outputs": [
    {
     "data": {
      "text/plain": [
       "count    49042.000000\n",
       "mean         2.233044\n",
       "std          2.142035\n",
       "min          0.007886\n",
       "25%          0.781021\n",
       "50%          1.433373\n",
       "75%          2.895073\n",
       "max         18.268964\n",
       "Name: total_knn_access, dtype: float64"
      ]
     },
     "execution_count": 14,
     "metadata": {},
     "output_type": "execute_result"
    }
   ],
   "source": [
    "baseline ['total_knn_access'].describe()"
   ]
  },
  {
   "cell_type": "code",
   "execution_count": 15,
   "metadata": {},
   "outputs": [],
   "source": [
    "#plot this as cdf\n",
    "import numpy as np\n",
    "#function to sort and calculate the cumulative data\n",
    "def get_cumulative_data(df, column):\n",
    "    #sort the data by the column\n",
    "    df = df.sort_values(by=column,ascending=True)\n",
    "    sorted_data = df[column].values\n",
    "    #calculate the cumulative data\n",
    "    cumulative_data = np.cumsum(sorted_data) / np.sum(sorted_data)\n",
    "    return sorted_data, cumulative_data"
   ]
  },
  {
   "cell_type": "code",
   "execution_count": 16,
   "metadata": {},
   "outputs": [],
   "source": [
    "u_geometric_sorted, u_geometric_cumulative = get_cumulative_data(baseline, 'total_knn_access')"
   ]
  },
  {
   "cell_type": "code",
   "execution_count": 17,
   "metadata": {},
   "outputs": [],
   "source": [
    "import matplotlib.pyplot as plt"
   ]
  },
  {
   "cell_type": "code",
   "execution_count": 18,
   "metadata": {},
   "outputs": [
    {
     "data": {
      "text/plain": [
       "[<matplotlib.lines.Line2D at 0x14262f8b0>]"
      ]
     },
     "execution_count": 18,
     "metadata": {},
     "output_type": "execute_result"
    },
    {
     "data": {
      "image/png": "[encoded data removed]",
      "text/plain": [
       "<Figure size 640x480 with 1 Axes>"
      ]
     },
     "metadata": {},
     "output_type": "display_data"
    }
   ],
   "source": [
    "plt.plot(u_geometric_cumulative, u_geometric_sorted, label='Geometric', color='orange')"
   ]
  }
 ],
 "metadata": {
  "kernelspec": {
   "display_name": "project-sidewalk",
   "language": "python",
   "name": "python3"
  },
  "language_info": {
   "codemirror_mode": {
    "name": "ipython",
    "version": 3
   },
   "file_extension": ".py",
   "mimetype": "text/x-python",
   "name": "python",
   "nbconvert_exporter": "python",
   "pygments_lexer": "ipython3",
   "version": "3.10.6"
  }
 },
 "nbformat": 4,
 "nbformat_minor": 2
}

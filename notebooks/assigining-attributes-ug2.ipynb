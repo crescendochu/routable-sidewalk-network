{
 "cells": [
  {
   "cell_type": "code",
   "execution_count": 141,
   "metadata": {},
   "outputs": [],
   "source": [
    "import geopandas as gpd\n",
    "import pandas as pd\n",
    "import numpy as np"
   ]
  },
  {
   "cell_type": "markdown",
   "metadata": {},
   "source": [
    "# User group 2"
   ]
  },
  {
   "cell_type": "code",
   "execution_count": 142,
   "metadata": {},
   "outputs": [],
   "source": [
    "#read in the cleaned pedestrian data\n",
    "pedestrian_network = gpd.read_file('../data/cleaned-pednetwork/cleaned-pednetwork-full/cleaned-pednetwork-full.shp')"
   ]
  },
  {
   "cell_type": "markdown",
   "metadata": {},
   "source": [
    "# Sidewalks"
   ]
  },
  {
   "cell_type": "markdown",
   "metadata": {},
   "source": [
    "## 1. Waytype"
   ]
  },
  {
   "cell_type": "code",
   "execution_count": 143,
   "metadata": {},
   "outputs": [
    {
     "data": {
      "text/plain": [
       "array(['crossing', 'footway', 'steps', 'pedestrian', 'path', 'track',\n",
       "       'service', 'm_footway', 'residential', 'm_service', 'cycleway',\n",
       "       'tertiary', 'secondary', 'trunk', 'primary', '0'], dtype=object)"
      ]
     },
     "execution_count": 143,
     "metadata": {},
     "output_type": "execute_result"
    }
   ],
   "source": [
    "pedestrian_network['fclass'].unique()"
   ]
  },
  {
   "cell_type": "code",
   "execution_count": 144,
   "metadata": {},
   "outputs": [],
   "source": [
    "#create a mapping of the fclass to waytype weight\n",
    "waytype_weight_dict = {\n",
    "    'service': 1.5,\n",
    "    'm_service': 1.5,\n",
    "    'residential': 1.5,\n",
    "    'tertiary':3,\n",
    "    'secondary': 3,\n",
    "    'primary': 3,\n",
    "    'trunk': 3,\n",
    "    'cycleway': 2,\n",
    "}\n"
   ]
  },
  {
   "cell_type": "code",
   "execution_count": 145,
   "metadata": {},
   "outputs": [],
   "source": [
    "pedestrian_network['waytype_w'] = pedestrian_network['fclass'].map(waytype_weight_dict).fillna(1).astype(float)"
   ]
  },
  {
   "cell_type": "markdown",
   "metadata": {},
   "source": [
    "## 2. Sidewalk width"
   ]
  },
  {
   "cell_type": "code",
   "execution_count": 146,
   "metadata": {},
   "outputs": [],
   "source": [
    "# read in the sidewalk width data\n",
    "sidewalk_width = pd.read_csv('../data/pednetwork-attributes/sidewalks/paving-and-width.csv')"
   ]
  },
  {
   "cell_type": "code",
   "execution_count": 184,
   "metadata": {},
   "outputs": [],
   "source": [
    "# pedestrian_network"
   ]
  },
  {
   "cell_type": "code",
   "execution_count": 148,
   "metadata": {},
   "outputs": [],
   "source": [
    "#join on pednet_id\n",
    "pedestrian_network = pedestrian_network.merge(sidewalk_width, on='pednet_pid', how='left')"
   ]
  },
  {
   "cell_type": "code",
   "execution_count": 149,
   "metadata": {},
   "outputs": [],
   "source": [
    "def calculate_width_w(width):\n",
    "    if pd.isna(width):\n",
    "        return 1\n",
    "    elif width < 36:\n",
    "        return 5\n",
    "    elif 36 <= width < 48:\n",
    "        return 2\n",
    "    elif width >= 48:\n",
    "        return 1"
   ]
  },
  {
   "cell_type": "code",
   "execution_count": 150,
   "metadata": {},
   "outputs": [],
   "source": [
    "pedestrian_network['width_w'] = pedestrian_network['width'].apply(calculate_width_w)"
   ]
  },
  {
   "cell_type": "markdown",
   "metadata": {},
   "source": [
    "## 3. Sidewalk surface type"
   ]
  },
  {
   "cell_type": "code",
   "execution_count": 151,
   "metadata": {},
   "outputs": [
    {
     "data": {
      "text/plain": [
       "array(['concrete', 'gravel', 'asphalt', 'brick'], dtype=object)"
      ]
     },
     "execution_count": 151,
     "metadata": {},
     "output_type": "execute_result"
    }
   ],
   "source": [
    "pedestrian_network['surface_t'].unique()"
   ]
  },
  {
   "cell_type": "code",
   "execution_count": 152,
   "metadata": {},
   "outputs": [],
   "source": [
    "#craete a mapping of the surface type to surface weight\n",
    "surface_weight_dict = {\n",
    "    'concrete': 1,\n",
    "    'asphalt': 2,\n",
    "    'brick': 3,\n",
    "    'gravel': 5,\n",
    "}"
   ]
  },
  {
   "cell_type": "code",
   "execution_count": 153,
   "metadata": {},
   "outputs": [],
   "source": [
    "#map the surface type to the surface weight\n",
    "pedestrian_network['surface_w'] = pedestrian_network['surface_t'].map(surface_weight_dict).fillna(1).astype(float)"
   ]
  },
  {
   "cell_type": "markdown",
   "metadata": {},
   "source": [
    "## 4. Number of steps"
   ]
  },
  {
   "cell_type": "code",
   "execution_count": 154,
   "metadata": {},
   "outputs": [],
   "source": [
    "# read in the number of steps data\n",
    "number_of_steps = pd.read_csv('../data/pednetwork-attributes/sidewalks/number-of-steps.csv')"
   ]
  },
  {
   "cell_type": "code",
   "execution_count": 155,
   "metadata": {},
   "outputs": [],
   "source": [
    "#join on pednet_id\n",
    "pedestrian_network = pedestrian_network.merge(number_of_steps, on='pednet_id', how='left')"
   ]
  },
  {
   "cell_type": "code",
   "execution_count": 185,
   "metadata": {},
   "outputs": [],
   "source": [
    "# pedestrian_network"
   ]
  },
  {
   "cell_type": "code",
   "execution_count": 157,
   "metadata": {},
   "outputs": [],
   "source": [
    "def calculate_steps_w(steps):\n",
    "    if pd.isna(steps):\n",
    "        return 1\n",
    "    elif 1 <= steps < 5: \n",
    "        return 3\n",
    "    elif steps >= 5:\n",
    "        return 5"
   ]
  },
  {
   "cell_type": "code",
   "execution_count": 158,
   "metadata": {},
   "outputs": [],
   "source": [
    "#want to convert to steps_w Nan is 1, < 5 is 2, >=5 < 10 is 3, >=10 is 5\n",
    "pedestrian_network['steps_w'] = pedestrian_network['number-of-steps'].apply(calculate_steps_w).astype(float)"
   ]
  },
  {
   "cell_type": "markdown",
   "metadata": {},
   "source": [
    "## 5. Slope"
   ]
  },
  {
   "cell_type": "code",
   "execution_count": 160,
   "metadata": {},
   "outputs": [],
   "source": [
    "# create a new column for the length of the pedestrian network\n",
    "pedestrian_network['length'] = pedestrian_network['geometry'].length"
   ]
  },
  {
   "cell_type": "code",
   "execution_count": 161,
   "metadata": {},
   "outputs": [],
   "source": [
    "# add a column for z difference\n",
    "pedestrian_network['z_d'] = abs(pedestrian_network['z-start'] - pedestrian_network['z-end'])\n",
    "#change the z_d to meters to feet\n",
    "pedestrian_network['z_d'] = pedestrian_network['z_d'] * 3.28084"
   ]
  },
  {
   "cell_type": "code",
   "execution_count": 162,
   "metadata": {},
   "outputs": [],
   "source": [
    "# create a new column for the length of the pedestrian network\n",
    "pedestrian_network['length'] = pedestrian_network['geometry'].length"
   ]
  },
  {
   "cell_type": "code",
   "execution_count": 163,
   "metadata": {},
   "outputs": [],
   "source": [
    "#calculate the slope in percent\n",
    "pedestrian_network['slope'] = pedestrian_network['z_d'] / pedestrian_network['length']"
   ]
  },
  {
   "cell_type": "code",
   "execution_count": 164,
   "metadata": {},
   "outputs": [],
   "source": [
    "# add in a slope weight, if slope > 5% then 4, else 1\n",
    "pedestrian_network['slope_w'] = np.where(pedestrian_network['slope'] > 0.05, 4, 1)"
   ]
  },
  {
   "cell_type": "code",
   "execution_count": 165,
   "metadata": {},
   "outputs": [],
   "source": [
    "#pedestrian_network.explore(column = 'slope', tiles = 'cartodbpositron', scheme = 'naturalbreaks')"
   ]
  },
  {
   "cell_type": "markdown",
   "metadata": {},
   "source": [
    "# Crossings"
   ]
  },
  {
   "cell_type": "code",
   "execution_count": 166,
   "metadata": {},
   "outputs": [],
   "source": [
    "#read in crossing traffic flow data\n",
    "crossing_traffic_flow = pd.read_csv('../data/pednetwork-attributes/crosswalks/crossings-traffic-flow.csv')"
   ]
  },
  {
   "cell_type": "code",
   "execution_count": 167,
   "metadata": {},
   "outputs": [],
   "source": [
    "# join on pednet_id\n",
    "pedestrian_network = pedestrian_network.merge(crossing_traffic_flow, on='pednet_id', how='left')"
   ]
  },
  {
   "cell_type": "code",
   "execution_count": 186,
   "metadata": {},
   "outputs": [],
   "source": [
    "# pedestrian_network"
   ]
  },
  {
   "cell_type": "code",
   "execution_count": 169,
   "metadata": {},
   "outputs": [],
   "source": [
    "def calculate_crossing_w(row):\n",
    "    if row['crossing_t'] == 'm':\n",
    "        if row['traffic_flow'] == 'low':\n",
    "            return 2\n",
    "        elif row['traffic_flow'] == 'mid':\n",
    "            return 3\n",
    "        elif row['traffic_flow'] == 'high':\n",
    "            return 4\n",
    "    if row['crossing_t'] == 'u':\n",
    "        if row['traffic_flow'] == 'low':\n",
    "            return 2\n",
    "        elif row['traffic_flow'] == 'mid':\n",
    "            return 4\n",
    "        elif row['traffic_flow'] == 'high':\n",
    "            return 999\n",
    "    return 1  "
   ]
  },
  {
   "cell_type": "code",
   "execution_count": 170,
   "metadata": {},
   "outputs": [],
   "source": [
    "pedestrian_network['crossing_w'] = pedestrian_network.apply(calculate_crossing_w, axis=1).astype(float)"
   ]
  },
  {
   "cell_type": "markdown",
   "metadata": {},
   "source": [
    "# Calculate length based on weight\n"
   ]
  },
  {
   "cell_type": "code",
   "execution_count": 171,
   "metadata": {},
   "outputs": [],
   "source": [
    "#create a new column for the total weight that is the product of all the weights\n",
    "pedestrian_network['total_w'] = pedestrian_network['waytype_w'] * pedestrian_network['width_w'] * pedestrian_network['surface_w'] * pedestrian_network['steps_w'] * pedestrian_network['slope_w'] * pedestrian_network['crossing_w']\n",
    "# if the total weight is greater than 999, set it to 999\n",
    "pedestrian_network['total_w'] = np.where(pedestrian_network['total_w'] > 999, 999, pedestrian_network['total_w'])"
   ]
  },
  {
   "cell_type": "code",
   "execution_count": 172,
   "metadata": {},
   "outputs": [],
   "source": [
    "#create a column for ['weighted_length'] that length * total_w\n",
    "pedestrian_network['w_length'] = pedestrian_network['length'] * pedestrian_network['total_w']"
   ]
  },
  {
   "cell_type": "code",
   "execution_count": 173,
   "metadata": {},
   "outputs": [],
   "source": [
    "# new column that calculates the ratio change of the weighted length\n",
    "pedestrian_network['w_length_r'] = pedestrian_network['w_length']/pedestrian_network['length']"
   ]
  },
  {
   "cell_type": "code",
   "execution_count": 174,
   "metadata": {},
   "outputs": [],
   "source": [
    "#new column that calculates the absolute difference between the weighted length and the length\n",
    "pedestrian_network['w_length_d'] = pedestrian_network['w_length'] - pedestrian_network['length']"
   ]
  },
  {
   "cell_type": "code",
   "execution_count": 187,
   "metadata": {},
   "outputs": [],
   "source": [
    "# pedestrian_network.head()"
   ]
  },
  {
   "cell_type": "code",
   "execution_count": 176,
   "metadata": {},
   "outputs": [],
   "source": [
    "pedestrian_network = pedestrian_network[['pednet_id', 'waytype_w', 'width_w', 'surface_w', 'steps_w', 'slope_w', 'crossing_w', 'length', 'w_length', 'w_length_r', 'w_length_d', 'z-start' ,'z-end','geometry']]"
   ]
  },
  {
   "cell_type": "markdown",
   "metadata": {},
   "source": [
    "Visual Checks"
   ]
  },
  {
   "cell_type": "code",
   "execution_count": 188,
   "metadata": {},
   "outputs": [],
   "source": [
    "# pedestrian_network.explore(column = 'w_length_r', tiles = 'cartodbpositron', scheme = 'naturalbreaks')"
   ]
  },
  {
   "cell_type": "code",
   "execution_count": 178,
   "metadata": {},
   "outputs": [],
   "source": [
    "# pedestrian_network['slope_w'].value_counts()"
   ]
  },
  {
   "cell_type": "markdown",
   "metadata": {},
   "source": [
    "Saving Data"
   ]
  },
  {
   "cell_type": "code",
   "execution_count": 181,
   "metadata": {},
   "outputs": [],
   "source": [
    "#save the data to shapefile\n",
    "pedestrian_network.to_file('../data/weighted-network/user-group-2/user-group-2-weighted-network.shp')"
   ]
  },
  {
   "cell_type": "code",
   "execution_count": 183,
   "metadata": {},
   "outputs": [],
   "source": [
    "#save also as geojson\n",
    "pedestrian_network.to_file('../data/paired-data/ug2/network_ug2.geojson', driver='GeoJSON')"
   ]
  }
 ],
 "metadata": {
  "kernelspec": {
   "display_name": "project-sidewalk",
   "language": "python",
   "name": "python3"
  },
  "language_info": {
   "codemirror_mode": {
    "name": "ipython",
    "version": 3
   },
   "file_extension": ".py",
   "mimetype": "text/x-python",
   "name": "python",
   "nbconvert_exporter": "python",
   "pygments_lexer": "ipython3",
   "version": "3.10.6"
  }
 },
 "nbformat": 4,
 "nbformat_minor": 2
}

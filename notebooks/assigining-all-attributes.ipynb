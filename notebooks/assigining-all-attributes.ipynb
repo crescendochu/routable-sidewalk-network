{
 "cells": [
  {
   "cell_type": "code",
   "execution_count": 39,
   "metadata": {},
   "outputs": [],
   "source": [
    "import geopandas as gpd\n",
    "import pandas as pd\n",
    "import numpy as np"
   ]
  },
  {
   "cell_type": "code",
   "execution_count": 40,
   "metadata": {},
   "outputs": [],
   "source": [
    "# read in the data\n",
    "pedestrian_network = gpd.read_file('../data/cleaned-pednetwork/cleaned-pednetwork-full/cleaned-pednetwork-full.shp')"
   ]
  },
  {
   "cell_type": "markdown",
   "metadata": {},
   "source": [
    "# 1. Waytype"
   ]
  },
  {
   "cell_type": "code",
   "execution_count": 41,
   "metadata": {},
   "outputs": [
    {
     "data": {
      "text/plain": [
       "fclass\n",
       "footway        21715\n",
       "crossing        9959\n",
       "service          989\n",
       "residential      698\n",
       "steps            493\n",
       "tertiary         253\n",
       "pedestrian       239\n",
       "secondary        229\n",
       "cycleway         184\n",
       "m_service         96\n",
       "primary           32\n",
       "trunk             22\n",
       "path              13\n",
       "m_footway         10\n",
       "track              1\n",
       "Name: count, dtype: int64"
      ]
     },
     "execution_count": 41,
     "metadata": {},
     "output_type": "execute_result"
    }
   ],
   "source": [
    "#check value counts for fclass do not drop null\n",
    "pedestrian_network['fclass'].value_counts(dropna=False)"
   ]
  },
  {
   "cell_type": "markdown",
   "metadata": {},
   "source": [
    "# 2. Sidwalk Width"
   ]
  },
  {
   "cell_type": "code",
   "execution_count": 42,
   "metadata": {},
   "outputs": [
    {
     "data": {
      "text/html": [
       "<div>\n",
       "<style scoped>\n",
       "    .dataframe tbody tr th:only-of-type {\n",
       "        vertical-align: middle;\n",
       "    }\n",
       "\n",
       "    .dataframe tbody tr th {\n",
       "        vertical-align: top;\n",
       "    }\n",
       "\n",
       "    .dataframe thead th {\n",
       "        text-align: right;\n",
       "    }\n",
       "</style>\n",
       "<table border=\"1\" class=\"dataframe\">\n",
       "  <thead>\n",
       "    <tr style=\"text-align: right;\">\n",
       "      <th></th>\n",
       "      <th>pednet_pid</th>\n",
       "      <th>surface_t</th>\n",
       "      <th>width</th>\n",
       "    </tr>\n",
       "  </thead>\n",
       "  <tbody>\n",
       "    <tr>\n",
       "      <th>0</th>\n",
       "      <td>0</td>\n",
       "      <td>concrete</td>\n",
       "      <td>72.0</td>\n",
       "    </tr>\n",
       "    <tr>\n",
       "      <th>1</th>\n",
       "      <td>1</td>\n",
       "      <td>concrete</td>\n",
       "      <td>106.0</td>\n",
       "    </tr>\n",
       "    <tr>\n",
       "      <th>2</th>\n",
       "      <td>2</td>\n",
       "      <td>concrete</td>\n",
       "      <td>61.0</td>\n",
       "    </tr>\n",
       "    <tr>\n",
       "      <th>3</th>\n",
       "      <td>3</td>\n",
       "      <td>concrete</td>\n",
       "      <td>72.0</td>\n",
       "    </tr>\n",
       "    <tr>\n",
       "      <th>4</th>\n",
       "      <td>4</td>\n",
       "      <td>concrete</td>\n",
       "      <td>72.0</td>\n",
       "    </tr>\n",
       "    <tr>\n",
       "      <th>...</th>\n",
       "      <td>...</td>\n",
       "      <td>...</td>\n",
       "      <td>...</td>\n",
       "    </tr>\n",
       "    <tr>\n",
       "      <th>34924</th>\n",
       "      <td>34924</td>\n",
       "      <td>concrete</td>\n",
       "      <td>72.0</td>\n",
       "    </tr>\n",
       "    <tr>\n",
       "      <th>34925</th>\n",
       "      <td>34925</td>\n",
       "      <td>concrete</td>\n",
       "      <td>72.0</td>\n",
       "    </tr>\n",
       "    <tr>\n",
       "      <th>34926</th>\n",
       "      <td>34926</td>\n",
       "      <td>concrete</td>\n",
       "      <td>72.0</td>\n",
       "    </tr>\n",
       "    <tr>\n",
       "      <th>34927</th>\n",
       "      <td>34927</td>\n",
       "      <td>concrete</td>\n",
       "      <td>72.0</td>\n",
       "    </tr>\n",
       "    <tr>\n",
       "      <th>34928</th>\n",
       "      <td>34928</td>\n",
       "      <td>concrete</td>\n",
       "      <td>72.0</td>\n",
       "    </tr>\n",
       "  </tbody>\n",
       "</table>\n",
       "<p>34929 rows × 3 columns</p>\n",
       "</div>"
      ],
      "text/plain": [
       "       pednet_pid surface_t  width\n",
       "0               0  concrete   72.0\n",
       "1               1  concrete  106.0\n",
       "2               2  concrete   61.0\n",
       "3               3  concrete   72.0\n",
       "4               4  concrete   72.0\n",
       "...           ...       ...    ...\n",
       "34924       34924  concrete   72.0\n",
       "34925       34925  concrete   72.0\n",
       "34926       34926  concrete   72.0\n",
       "34927       34927  concrete   72.0\n",
       "34928       34928  concrete   72.0\n",
       "\n",
       "[34929 rows x 3 columns]"
      ]
     },
     "execution_count": 42,
     "metadata": {},
     "output_type": "execute_result"
    }
   ],
   "source": [
    "# read in the sidewalk width data\n",
    "sidewalk_width = pd.read_csv('../data/pednetwork-attributes/sidewalks/paving-and-width.csv')\n",
    "sidewalk_width"
   ]
  },
  {
   "cell_type": "code",
   "execution_count": 43,
   "metadata": {},
   "outputs": [],
   "source": [
    "#join on pednet_pid\n",
    "pedestrian_network = pedestrian_network.merge(sidewalk_width, on='pednet_pid', how='left')"
   ]
  },
  {
   "cell_type": "markdown",
   "metadata": {},
   "source": [
    "# 3. Sidewalk surface type"
   ]
  },
  {
   "cell_type": "code",
   "execution_count": 44,
   "metadata": {},
   "outputs": [
    {
     "data": {
      "text/plain": [
       "array(['concrete', 'gravel', 'asphalt', 'brick'], dtype=object)"
      ]
     },
     "execution_count": 44,
     "metadata": {},
     "output_type": "execute_result"
    }
   ],
   "source": [
    "pedestrian_network['surface_t'].unique()"
   ]
  },
  {
   "cell_type": "markdown",
   "metadata": {},
   "source": [
    "# 4. Number of steps"
   ]
  },
  {
   "cell_type": "code",
   "execution_count": 45,
   "metadata": {},
   "outputs": [],
   "source": [
    "# read in the number of steps data\n",
    "number_of_steps = pd.read_csv('../data/pednetwork-attributes/sidewalks/number-of-steps.csv')"
   ]
  },
  {
   "cell_type": "code",
   "execution_count": 46,
   "metadata": {},
   "outputs": [],
   "source": [
    "#join on pednet_id\n",
    "pedestrian_network = pedestrian_network.merge(number_of_steps, on='pednet_id', how='left')"
   ]
  },
  {
   "cell_type": "markdown",
   "metadata": {},
   "source": [
    "# 5. Slope"
   ]
  },
  {
   "cell_type": "code",
   "execution_count": 47,
   "metadata": {},
   "outputs": [],
   "source": [
    "# add a column for z difference\n",
    "pedestrian_network['z_d'] = abs(pedestrian_network['z-start'] - pedestrian_network['z-end'])\n",
    "#change the z_d to meters to feet\n",
    "pedestrian_network['z_d'] = pedestrian_network['z_d'] * 3.28084"
   ]
  },
  {
   "cell_type": "code",
   "execution_count": 48,
   "metadata": {},
   "outputs": [],
   "source": [
    "# create a new column for the length of the pedestrian network\n",
    "pedestrian_network['length'] = pedestrian_network['geometry'].length"
   ]
  },
  {
   "cell_type": "code",
   "execution_count": 49,
   "metadata": {},
   "outputs": [],
   "source": [
    "#calculate the slope in percent\n",
    "pedestrian_network['slope'] = pedestrian_network['z_d'] / pedestrian_network['length']"
   ]
  },
  {
   "cell_type": "markdown",
   "metadata": {},
   "source": [
    "# 6. Crossings"
   ]
  },
  {
   "cell_type": "code",
   "execution_count": 50,
   "metadata": {},
   "outputs": [],
   "source": [
    "#read in crossing traffic flow data\n",
    "crossing_traffic_flow = pd.read_csv('../data/pednetwork-attributes/crosswalks/crossings-traffic-flow.csv')"
   ]
  },
  {
   "cell_type": "code",
   "execution_count": 51,
   "metadata": {},
   "outputs": [],
   "source": [
    "# join on pednet_id\n",
    "pedestrian_network = pedestrian_network.merge(crossing_traffic_flow, on='pednet_id', how='left')"
   ]
  },
  {
   "cell_type": "code",
   "execution_count": 52,
   "metadata": {},
   "outputs": [],
   "source": [
    "# change the column orders\n",
    "pedestrian_network = pedestrian_network[['pednet_id', 'pednet_pid', 'type', 'fclass', 'surface_t', 'width', 'number-of-steps', 'z-start', 'z-end', 'z_d', 'length', 'slope', 'crossing_t', 'traffic_flow', 'geometry']]"
   ]
  },
  {
   "cell_type": "code",
   "execution_count": 53,
   "metadata": {},
   "outputs": [],
   "source": [
    "#change column names from 'number-of-steps' to 'number_of_steps'\n",
    "pedestrian_network = pedestrian_network.rename(columns={'number-of-steps': 'steps'})\n",
    "#change column names from z_d to z_difference\n",
    "pedestrian_network = pedestrian_network.rename(columns={'z_d': 'z_delta'})"
   ]
  },
  {
   "cell_type": "code",
   "execution_count": 54,
   "metadata": {},
   "outputs": [
    {
     "data": {
      "text/html": [
       "<div>\n",
       "<style scoped>\n",
       "    .dataframe tbody tr th:only-of-type {\n",
       "        vertical-align: middle;\n",
       "    }\n",
       "\n",
       "    .dataframe tbody tr th {\n",
       "        vertical-align: top;\n",
       "    }\n",
       "\n",
       "    .dataframe thead th {\n",
       "        text-align: right;\n",
       "    }\n",
       "</style>\n",
       "<table border=\"1\" class=\"dataframe\">\n",
       "  <thead>\n",
       "    <tr style=\"text-align: right;\">\n",
       "      <th></th>\n",
       "      <th>pednet_id</th>\n",
       "      <th>pednet_pid</th>\n",
       "      <th>type</th>\n",
       "      <th>fclass</th>\n",
       "      <th>surface_t</th>\n",
       "      <th>width</th>\n",
       "      <th>steps</th>\n",
       "      <th>z-start</th>\n",
       "      <th>z-end</th>\n",
       "      <th>z_delta</th>\n",
       "      <th>length</th>\n",
       "      <th>slope</th>\n",
       "      <th>crossing_t</th>\n",
       "      <th>traffic_flow</th>\n",
       "      <th>geometry</th>\n",
       "    </tr>\n",
       "  </thead>\n",
       "  <tbody>\n",
       "    <tr>\n",
       "      <th>0</th>\n",
       "      <td>0.0</td>\n",
       "      <td>0</td>\n",
       "      <td>ped</td>\n",
       "      <td>crossing</td>\n",
       "      <td>concrete</td>\n",
       "      <td>72.0</td>\n",
       "      <td>NaN</td>\n",
       "      <td>15.400000</td>\n",
       "      <td>16.200001</td>\n",
       "      <td>2.624676</td>\n",
       "      <td>71.188703</td>\n",
       "      <td>0.036869</td>\n",
       "      <td>m</td>\n",
       "      <td>low</td>\n",
       "      <td>LINESTRING (1277935.51 238384.953, 1277942.83 ...</td>\n",
       "    </tr>\n",
       "    <tr>\n",
       "      <th>1</th>\n",
       "      <td>1.0</td>\n",
       "      <td>1</td>\n",
       "      <td>ped</td>\n",
       "      <td>footway</td>\n",
       "      <td>concrete</td>\n",
       "      <td>106.0</td>\n",
       "      <td>NaN</td>\n",
       "      <td>16.200001</td>\n",
       "      <td>16.200001</td>\n",
       "      <td>0.000000</td>\n",
       "      <td>16.675574</td>\n",
       "      <td>0.000000</td>\n",
       "      <td>0</td>\n",
       "      <td>NaN</td>\n",
       "      <td>LINESTRING (1277978.83 238310.174, 1277966.394...</td>\n",
       "    </tr>\n",
       "    <tr>\n",
       "      <th>2</th>\n",
       "      <td>2.0</td>\n",
       "      <td>2</td>\n",
       "      <td>ped</td>\n",
       "      <td>footway</td>\n",
       "      <td>concrete</td>\n",
       "      <td>61.0</td>\n",
       "      <td>NaN</td>\n",
       "      <td>10.500000</td>\n",
       "      <td>16.200001</td>\n",
       "      <td>18.700791</td>\n",
       "      <td>458.294269</td>\n",
       "      <td>0.040805</td>\n",
       "      <td>0</td>\n",
       "      <td>NaN</td>\n",
       "      <td>LINESTRING (1278374.334 238398.46, 1278317.326...</td>\n",
       "    </tr>\n",
       "    <tr>\n",
       "      <th>3</th>\n",
       "      <td>3.0</td>\n",
       "      <td>3</td>\n",
       "      <td>ped</td>\n",
       "      <td>steps</td>\n",
       "      <td>concrete</td>\n",
       "      <td>72.0</td>\n",
       "      <td>1.0</td>\n",
       "      <td>11.600000</td>\n",
       "      <td>11.600000</td>\n",
       "      <td>0.000000</td>\n",
       "      <td>17.555658</td>\n",
       "      <td>0.000000</td>\n",
       "      <td>0</td>\n",
       "      <td>NaN</td>\n",
       "      <td>LINESTRING (1284223.335 235156.549, 1284211.29...</td>\n",
       "    </tr>\n",
       "    <tr>\n",
       "      <th>4</th>\n",
       "      <td>4.0</td>\n",
       "      <td>4</td>\n",
       "      <td>ped</td>\n",
       "      <td>steps</td>\n",
       "      <td>concrete</td>\n",
       "      <td>72.0</td>\n",
       "      <td>5.0</td>\n",
       "      <td>124.599998</td>\n",
       "      <td>118.900002</td>\n",
       "      <td>18.700778</td>\n",
       "      <td>79.474146</td>\n",
       "      <td>0.235306</td>\n",
       "      <td>0</td>\n",
       "      <td>NaN</td>\n",
       "      <td>LINESTRING (1266761.001 234328.359, 1266840.43...</td>\n",
       "    </tr>\n",
       "    <tr>\n",
       "      <th>...</th>\n",
       "      <td>...</td>\n",
       "      <td>...</td>\n",
       "      <td>...</td>\n",
       "      <td>...</td>\n",
       "      <td>...</td>\n",
       "      <td>...</td>\n",
       "      <td>...</td>\n",
       "      <td>...</td>\n",
       "      <td>...</td>\n",
       "      <td>...</td>\n",
       "      <td>...</td>\n",
       "      <td>...</td>\n",
       "      <td>...</td>\n",
       "      <td>...</td>\n",
       "      <td>...</td>\n",
       "    </tr>\n",
       "    <tr>\n",
       "      <th>34928</th>\n",
       "      <td>32959.0</td>\n",
       "      <td>34924</td>\n",
       "      <td>ped</td>\n",
       "      <td>footway</td>\n",
       "      <td>concrete</td>\n",
       "      <td>72.0</td>\n",
       "      <td>NaN</td>\n",
       "      <td>68.199997</td>\n",
       "      <td>68.199997</td>\n",
       "      <td>0.000000</td>\n",
       "      <td>10.709117</td>\n",
       "      <td>0.000000</td>\n",
       "      <td>0</td>\n",
       "      <td>NaN</td>\n",
       "      <td>LINESTRING (1262631.523 239983.092, 1262641.40...</td>\n",
       "    </tr>\n",
       "    <tr>\n",
       "      <th>34929</th>\n",
       "      <td>32960.0</td>\n",
       "      <td>34925</td>\n",
       "      <td>road</td>\n",
       "      <td>service</td>\n",
       "      <td>concrete</td>\n",
       "      <td>72.0</td>\n",
       "      <td>NaN</td>\n",
       "      <td>65.099998</td>\n",
       "      <td>62.700001</td>\n",
       "      <td>7.874008</td>\n",
       "      <td>60.364828</td>\n",
       "      <td>0.130440</td>\n",
       "      <td>0</td>\n",
       "      <td>NaN</td>\n",
       "      <td>LINESTRING (1262862.932 240024.343, 1262868.78...</td>\n",
       "    </tr>\n",
       "    <tr>\n",
       "      <th>34930</th>\n",
       "      <td>32961.0</td>\n",
       "      <td>34926</td>\n",
       "      <td>road</td>\n",
       "      <td>service</td>\n",
       "      <td>concrete</td>\n",
       "      <td>72.0</td>\n",
       "      <td>NaN</td>\n",
       "      <td>62.700001</td>\n",
       "      <td>65.099998</td>\n",
       "      <td>7.874008</td>\n",
       "      <td>155.739448</td>\n",
       "      <td>0.050559</td>\n",
       "      <td>0</td>\n",
       "      <td>NaN</td>\n",
       "      <td>LINESTRING (1262918.344 240036.228, 1262921.4 ...</td>\n",
       "    </tr>\n",
       "    <tr>\n",
       "      <th>34931</th>\n",
       "      <td>32962.0</td>\n",
       "      <td>34927</td>\n",
       "      <td>road</td>\n",
       "      <td>service</td>\n",
       "      <td>concrete</td>\n",
       "      <td>72.0</td>\n",
       "      <td>NaN</td>\n",
       "      <td>61.599998</td>\n",
       "      <td>62.700001</td>\n",
       "      <td>3.608932</td>\n",
       "      <td>344.187381</td>\n",
       "      <td>0.010485</td>\n",
       "      <td>0</td>\n",
       "      <td>NaN</td>\n",
       "      <td>LINESTRING (1263190.244 239825.195, 1263057.2 ...</td>\n",
       "    </tr>\n",
       "    <tr>\n",
       "      <th>34932</th>\n",
       "      <td>32963.0</td>\n",
       "      <td>34928</td>\n",
       "      <td>ped</td>\n",
       "      <td>footway</td>\n",
       "      <td>concrete</td>\n",
       "      <td>72.0</td>\n",
       "      <td>NaN</td>\n",
       "      <td>68.199997</td>\n",
       "      <td>68.199997</td>\n",
       "      <td>0.000000</td>\n",
       "      <td>22.066759</td>\n",
       "      <td>0.000000</td>\n",
       "      <td>0</td>\n",
       "      <td>NaN</td>\n",
       "      <td>LINESTRING (1262670.912 239978.987, 1262674.63...</td>\n",
       "    </tr>\n",
       "  </tbody>\n",
       "</table>\n",
       "<p>34933 rows × 15 columns</p>\n",
       "</div>"
      ],
      "text/plain": [
       "       pednet_id  pednet_pid  type    fclass surface_t  width  steps  \\\n",
       "0            0.0           0   ped  crossing  concrete   72.0    NaN   \n",
       "1            1.0           1   ped   footway  concrete  106.0    NaN   \n",
       "2            2.0           2   ped   footway  concrete   61.0    NaN   \n",
       "3            3.0           3   ped     steps  concrete   72.0    1.0   \n",
       "4            4.0           4   ped     steps  concrete   72.0    5.0   \n",
       "...          ...         ...   ...       ...       ...    ...    ...   \n",
       "34928    32959.0       34924   ped   footway  concrete   72.0    NaN   \n",
       "34929    32960.0       34925  road   service  concrete   72.0    NaN   \n",
       "34930    32961.0       34926  road   service  concrete   72.0    NaN   \n",
       "34931    32962.0       34927  road   service  concrete   72.0    NaN   \n",
       "34932    32963.0       34928   ped   footway  concrete   72.0    NaN   \n",
       "\n",
       "          z-start       z-end    z_delta      length     slope crossing_t  \\\n",
       "0       15.400000   16.200001   2.624676   71.188703  0.036869          m   \n",
       "1       16.200001   16.200001   0.000000   16.675574  0.000000          0   \n",
       "2       10.500000   16.200001  18.700791  458.294269  0.040805          0   \n",
       "3       11.600000   11.600000   0.000000   17.555658  0.000000          0   \n",
       "4      124.599998  118.900002  18.700778   79.474146  0.235306          0   \n",
       "...           ...         ...        ...         ...       ...        ...   \n",
       "34928   68.199997   68.199997   0.000000   10.709117  0.000000          0   \n",
       "34929   65.099998   62.700001   7.874008   60.364828  0.130440          0   \n",
       "34930   62.700001   65.099998   7.874008  155.739448  0.050559          0   \n",
       "34931   61.599998   62.700001   3.608932  344.187381  0.010485          0   \n",
       "34932   68.199997   68.199997   0.000000   22.066759  0.000000          0   \n",
       "\n",
       "      traffic_flow                                           geometry  \n",
       "0              low  LINESTRING (1277935.51 238384.953, 1277942.83 ...  \n",
       "1              NaN  LINESTRING (1277978.83 238310.174, 1277966.394...  \n",
       "2              NaN  LINESTRING (1278374.334 238398.46, 1278317.326...  \n",
       "3              NaN  LINESTRING (1284223.335 235156.549, 1284211.29...  \n",
       "4              NaN  LINESTRING (1266761.001 234328.359, 1266840.43...  \n",
       "...            ...                                                ...  \n",
       "34928          NaN  LINESTRING (1262631.523 239983.092, 1262641.40...  \n",
       "34929          NaN  LINESTRING (1262862.932 240024.343, 1262868.78...  \n",
       "34930          NaN  LINESTRING (1262918.344 240036.228, 1262921.4 ...  \n",
       "34931          NaN  LINESTRING (1263190.244 239825.195, 1263057.2 ...  \n",
       "34932          NaN  LINESTRING (1262670.912 239978.987, 1262674.63...  \n",
       "\n",
       "[34933 rows x 15 columns]"
      ]
     },
     "execution_count": 54,
     "metadata": {},
     "output_type": "execute_result"
    }
   ],
   "source": [
    "pedestrian_network"
   ]
  },
  {
   "cell_type": "code",
   "execution_count": 55,
   "metadata": {},
   "outputs": [
    {
     "name": "stderr",
     "output_type": "stream",
     "text": [
      "/var/folders/zm/x5dzdlrs5mlbxrm7z5g6p05r0000gn/T/ipykernel_51648/2680768217.py:2: UserWarning: Column names longer than 10 characters will be truncated when saved to ESRI Shapefile.\n",
      "  pedestrian_network.to_file('../data/cleaned-pednetwork/cleaned-pednetwork-full-attributes/cleaned-pednetwork-full-attributes.shp')\n",
      "/Users/chuli/opt/anaconda3/envs/project-sidewalk/lib/python3.10/site-packages/pyogrio/raw.py:530: RuntimeWarning: Normalized/laundered field name: 'traffic_flow' to 'traffic_fl'\n",
      "  ogr_write(\n"
     ]
    }
   ],
   "source": [
    "# save network to file\n",
    "pedestrian_network.to_file('../data/cleaned-pednetwork/cleaned-pednetwork-full-attributes/cleaned-pednetwork-full-attributes.shp')"
   ]
  }
 ],
 "metadata": {
  "kernelspec": {
   "display_name": "project-sidewalk",
   "language": "python",
   "name": "python3"
  },
  "language_info": {
   "codemirror_mode": {
    "name": "ipython",
    "version": 3
   },
   "file_extension": ".py",
   "mimetype": "text/x-python",
   "name": "python",
   "nbconvert_exporter": "python",
   "pygments_lexer": "ipython3",
   "version": "3.10.6"
  }
 },
 "nbformat": 4,
 "nbformat_minor": 2
}

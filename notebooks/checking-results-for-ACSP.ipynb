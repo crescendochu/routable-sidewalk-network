{
 "cells": [
  {
   "cell_type": "code",
   "execution_count": 1,
   "metadata": {},
   "outputs": [],
   "source": [
    "import geopandas as gpd\n",
    "import pandas as pd\n",
    "import numpy as np"
   ]
  },
  {
   "cell_type": "code",
   "execution_count": 2,
   "metadata": {},
   "outputs": [],
   "source": [
    "# read in KNN-Access data analysis results \n",
    "df = gpd.read_file('../data/aziz-final/Seattle Output Files/origin_record.geojson')"
   ]
  },
  {
   "cell_type": "code",
   "execution_count": 4,
   "metadata": {},
   "outputs": [
    {
     "data": {
      "text/html": [
       "<div>\n",
       "<style scoped>\n",
       "    .dataframe tbody tr th:only-of-type {\n",
       "        vertical-align: middle;\n",
       "    }\n",
       "\n",
       "    .dataframe tbody tr th {\n",
       "        vertical-align: top;\n",
       "    }\n",
       "\n",
       "    .dataframe thead th {\n",
       "        text-align: right;\n",
       "    }\n",
       "</style>\n",
       "<table border=\"1\" class=\"dataframe\">\n",
       "  <thead>\n",
       "    <tr style=\"text-align: right;\">\n",
       "      <th></th>\n",
       "      <th>Baseline</th>\n",
       "      <th>UG1 Network</th>\n",
       "      <th>UG2 Network</th>\n",
       "      <th>UG3 Network</th>\n",
       "      <th>UG1 Node</th>\n",
       "      <th>UG2 Node</th>\n",
       "      <th>UG3 Node</th>\n",
       "      <th>UG1 Elevation</th>\n",
       "      <th>UG2 Elevation</th>\n",
       "      <th>UG3 Elevation</th>\n",
       "      <th>UG1 Network+Node</th>\n",
       "      <th>UG2 Network+Node</th>\n",
       "      <th>UG3 Network+Node</th>\n",
       "      <th>UG1 Network+Node+Elevation</th>\n",
       "      <th>UG2 Network+Node+Elevation</th>\n",
       "      <th>UG3 Network+Node+Elevation</th>\n",
       "      <th>geometry</th>\n",
       "    </tr>\n",
       "  </thead>\n",
       "  <tbody>\n",
       "    <tr>\n",
       "      <th>0</th>\n",
       "      <td>5.779995</td>\n",
       "      <td>2.214172</td>\n",
       "      <td>0.728205</td>\n",
       "      <td>0.000000</td>\n",
       "      <td>5.474603</td>\n",
       "      <td>0.455625</td>\n",
       "      <td>0.000000</td>\n",
       "      <td>5.761933</td>\n",
       "      <td>5.727985</td>\n",
       "      <td>5.608296</td>\n",
       "      <td>1.740703</td>\n",
       "      <td>0.000000</td>\n",
       "      <td>0.000000</td>\n",
       "      <td>1.387189</td>\n",
       "      <td>0.000000</td>\n",
       "      <td>0.000000</td>\n",
       "      <td>POINT (1260267.129 243780.167)</td>\n",
       "    </tr>\n",
       "    <tr>\n",
       "      <th>1</th>\n",
       "      <td>5.779995</td>\n",
       "      <td>2.214172</td>\n",
       "      <td>0.728205</td>\n",
       "      <td>0.000000</td>\n",
       "      <td>5.474603</td>\n",
       "      <td>0.455625</td>\n",
       "      <td>0.000000</td>\n",
       "      <td>5.761933</td>\n",
       "      <td>5.727985</td>\n",
       "      <td>5.608296</td>\n",
       "      <td>1.740703</td>\n",
       "      <td>0.000000</td>\n",
       "      <td>0.000000</td>\n",
       "      <td>1.387189</td>\n",
       "      <td>0.000000</td>\n",
       "      <td>0.000000</td>\n",
       "      <td>POINT (1260267.129 243780.167)</td>\n",
       "    </tr>\n",
       "    <tr>\n",
       "      <th>2</th>\n",
       "      <td>9.914821</td>\n",
       "      <td>9.753530</td>\n",
       "      <td>7.781496</td>\n",
       "      <td>5.035237</td>\n",
       "      <td>9.895874</td>\n",
       "      <td>9.858677</td>\n",
       "      <td>9.825177</td>\n",
       "      <td>9.851188</td>\n",
       "      <td>9.740542</td>\n",
       "      <td>9.728332</td>\n",
       "      <td>9.741421</td>\n",
       "      <td>7.866494</td>\n",
       "      <td>5.037969</td>\n",
       "      <td>9.686386</td>\n",
       "      <td>7.400217</td>\n",
       "      <td>4.966901</td>\n",
       "      <td>POINT (1260483.365 243274.057)</td>\n",
       "    </tr>\n",
       "    <tr>\n",
       "      <th>3</th>\n",
       "      <td>9.914821</td>\n",
       "      <td>9.753530</td>\n",
       "      <td>7.781496</td>\n",
       "      <td>5.035237</td>\n",
       "      <td>9.895874</td>\n",
       "      <td>9.858677</td>\n",
       "      <td>9.825177</td>\n",
       "      <td>9.851188</td>\n",
       "      <td>9.740542</td>\n",
       "      <td>9.728332</td>\n",
       "      <td>9.741421</td>\n",
       "      <td>7.866494</td>\n",
       "      <td>5.037969</td>\n",
       "      <td>9.686386</td>\n",
       "      <td>7.400217</td>\n",
       "      <td>4.966901</td>\n",
       "      <td>POINT (1260483.365 243274.057)</td>\n",
       "    </tr>\n",
       "    <tr>\n",
       "      <th>4</th>\n",
       "      <td>9.914821</td>\n",
       "      <td>9.753530</td>\n",
       "      <td>7.781496</td>\n",
       "      <td>5.035237</td>\n",
       "      <td>9.895874</td>\n",
       "      <td>9.858677</td>\n",
       "      <td>9.825177</td>\n",
       "      <td>9.851188</td>\n",
       "      <td>9.740542</td>\n",
       "      <td>9.728332</td>\n",
       "      <td>9.741421</td>\n",
       "      <td>7.866494</td>\n",
       "      <td>5.037969</td>\n",
       "      <td>9.686386</td>\n",
       "      <td>7.400217</td>\n",
       "      <td>4.966901</td>\n",
       "      <td>POINT (1260483.365 243274.057)</td>\n",
       "    </tr>\n",
       "  </tbody>\n",
       "</table>\n",
       "</div>"
      ],
      "text/plain": [
       "   Baseline  UG1 Network  UG2 Network  UG3 Network  UG1 Node  UG2 Node  \\\n",
       "0  5.779995     2.214172     0.728205     0.000000  5.474603  0.455625   \n",
       "1  5.779995     2.214172     0.728205     0.000000  5.474603  0.455625   \n",
       "2  9.914821     9.753530     7.781496     5.035237  9.895874  9.858677   \n",
       "3  9.914821     9.753530     7.781496     5.035237  9.895874  9.858677   \n",
       "4  9.914821     9.753530     7.781496     5.035237  9.895874  9.858677   \n",
       "\n",
       "   UG3 Node  UG1 Elevation  UG2 Elevation  UG3 Elevation  UG1 Network+Node  \\\n",
       "0  0.000000       5.761933       5.727985       5.608296          1.740703   \n",
       "1  0.000000       5.761933       5.727985       5.608296          1.740703   \n",
       "2  9.825177       9.851188       9.740542       9.728332          9.741421   \n",
       "3  9.825177       9.851188       9.740542       9.728332          9.741421   \n",
       "4  9.825177       9.851188       9.740542       9.728332          9.741421   \n",
       "\n",
       "   UG2 Network+Node  UG3 Network+Node  UG1 Network+Node+Elevation  \\\n",
       "0          0.000000          0.000000                    1.387189   \n",
       "1          0.000000          0.000000                    1.387189   \n",
       "2          7.866494          5.037969                    9.686386   \n",
       "3          7.866494          5.037969                    9.686386   \n",
       "4          7.866494          5.037969                    9.686386   \n",
       "\n",
       "   UG2 Network+Node+Elevation  UG3 Network+Node+Elevation  \\\n",
       "0                    0.000000                    0.000000   \n",
       "1                    0.000000                    0.000000   \n",
       "2                    7.400217                    4.966901   \n",
       "3                    7.400217                    4.966901   \n",
       "4                    7.400217                    4.966901   \n",
       "\n",
       "                         geometry  \n",
       "0  POINT (1260267.129 243780.167)  \n",
       "1  POINT (1260267.129 243780.167)  \n",
       "2  POINT (1260483.365 243274.057)  \n",
       "3  POINT (1260483.365 243274.057)  \n",
       "4  POINT (1260483.365 243274.057)  "
      ]
     },
     "execution_count": 4,
     "metadata": {},
     "output_type": "execute_result"
    }
   ],
   "source": [
    "df.head()"
   ]
  },
  {
   "cell_type": "markdown",
   "metadata": {},
   "source": [
    "# Differences between Baseline and UG1, UG2, UG3"
   ]
  },
  {
   "cell_type": "code",
   "execution_count": 7,
   "metadata": {},
   "outputs": [],
   "source": [
    "df_difference= df[['Baseline', 'UG1 Network+Node+Elevation','UG2 Network+Node+Elevation','UG3 Network+Node+Elevation']]"
   ]
  },
  {
   "cell_type": "code",
   "execution_count": 9,
   "metadata": {},
   "outputs": [
    {
     "data": {
      "text/html": [
       "<div>\n",
       "<style scoped>\n",
       "    .dataframe tbody tr th:only-of-type {\n",
       "        vertical-align: middle;\n",
       "    }\n",
       "\n",
       "    .dataframe tbody tr th {\n",
       "        vertical-align: top;\n",
       "    }\n",
       "\n",
       "    .dataframe thead th {\n",
       "        text-align: right;\n",
       "    }\n",
       "</style>\n",
       "<table border=\"1\" class=\"dataframe\">\n",
       "  <thead>\n",
       "    <tr style=\"text-align: right;\">\n",
       "      <th></th>\n",
       "      <th>Baseline</th>\n",
       "      <th>UG1 Network+Node+Elevation</th>\n",
       "      <th>UG2 Network+Node+Elevation</th>\n",
       "      <th>UG3 Network+Node+Elevation</th>\n",
       "    </tr>\n",
       "  </thead>\n",
       "  <tbody>\n",
       "    <tr>\n",
       "      <th>0</th>\n",
       "      <td>5.779995</td>\n",
       "      <td>1.387189</td>\n",
       "      <td>0.000000</td>\n",
       "      <td>0.000000</td>\n",
       "    </tr>\n",
       "    <tr>\n",
       "      <th>1</th>\n",
       "      <td>5.779995</td>\n",
       "      <td>1.387189</td>\n",
       "      <td>0.000000</td>\n",
       "      <td>0.000000</td>\n",
       "    </tr>\n",
       "    <tr>\n",
       "      <th>2</th>\n",
       "      <td>9.914821</td>\n",
       "      <td>9.686386</td>\n",
       "      <td>7.400217</td>\n",
       "      <td>4.966901</td>\n",
       "    </tr>\n",
       "    <tr>\n",
       "      <th>3</th>\n",
       "      <td>9.914821</td>\n",
       "      <td>9.686386</td>\n",
       "      <td>7.400217</td>\n",
       "      <td>4.966901</td>\n",
       "    </tr>\n",
       "    <tr>\n",
       "      <th>4</th>\n",
       "      <td>9.914821</td>\n",
       "      <td>9.686386</td>\n",
       "      <td>7.400217</td>\n",
       "      <td>4.966901</td>\n",
       "    </tr>\n",
       "  </tbody>\n",
       "</table>\n",
       "</div>"
      ],
      "text/plain": [
       "   Baseline  UG1 Network+Node+Elevation  UG2 Network+Node+Elevation  \\\n",
       "0  5.779995                    1.387189                    0.000000   \n",
       "1  5.779995                    1.387189                    0.000000   \n",
       "2  9.914821                    9.686386                    7.400217   \n",
       "3  9.914821                    9.686386                    7.400217   \n",
       "4  9.914821                    9.686386                    7.400217   \n",
       "\n",
       "   UG3 Network+Node+Elevation  \n",
       "0                    0.000000  \n",
       "1                    0.000000  \n",
       "2                    4.966901  \n",
       "3                    4.966901  \n",
       "4                    4.966901  "
      ]
     },
     "execution_count": 9,
     "metadata": {},
     "output_type": "execute_result"
    }
   ],
   "source": [
    "df_difference.head()"
   ]
  },
  {
   "cell_type": "code",
   "execution_count": 25,
   "metadata": {},
   "outputs": [
    {
     "name": "stderr",
     "output_type": "stream",
     "text": [
      "/var/folders/zm/x5dzdlrs5mlbxrm7z5g6p05r0000gn/T/ipykernel_99016/1405292741.py:1: SettingWithCopyWarning: \n",
      "A value is trying to be set on a copy of a slice from a DataFrame.\n",
      "Try using .loc[row_indexer,col_indexer] = value instead\n",
      "\n",
      "See the caveats in the documentation: https://pandas.pydata.org/pandas-docs/stable/user_guide/indexing.html#returning-a-view-versus-a-copy\n",
      "  df_difference['UG1_diff'] =  df_difference['Baseline'] - df_difference['UG1 Network+Node+Elevation']\n",
      "/var/folders/zm/x5dzdlrs5mlbxrm7z5g6p05r0000gn/T/ipykernel_99016/1405292741.py:2: SettingWithCopyWarning: \n",
      "A value is trying to be set on a copy of a slice from a DataFrame.\n",
      "Try using .loc[row_indexer,col_indexer] = value instead\n",
      "\n",
      "See the caveats in the documentation: https://pandas.pydata.org/pandas-docs/stable/user_guide/indexing.html#returning-a-view-versus-a-copy\n",
      "  df_difference['UG2_diff'] =  df_difference['Baseline'] - df_difference['UG2 Network+Node+Elevation']\n",
      "/var/folders/zm/x5dzdlrs5mlbxrm7z5g6p05r0000gn/T/ipykernel_99016/1405292741.py:3: SettingWithCopyWarning: \n",
      "A value is trying to be set on a copy of a slice from a DataFrame.\n",
      "Try using .loc[row_indexer,col_indexer] = value instead\n",
      "\n",
      "See the caveats in the documentation: https://pandas.pydata.org/pandas-docs/stable/user_guide/indexing.html#returning-a-view-versus-a-copy\n",
      "  df_difference['UG3_diff'] =  df_difference['Baseline'] - df_difference['UG3 Network+Node+Elevation']\n"
     ]
    }
   ],
   "source": [
    "df_difference['UG1_diff'] =  df_difference['Baseline'] - df_difference['UG1 Network+Node+Elevation']\n",
    "df_difference['UG2_diff'] =  df_difference['Baseline'] - df_difference['UG2 Network+Node+Elevation']\n",
    "df_difference['UG3_diff'] =  df_difference['Baseline'] - df_difference['UG3 Network+Node+Elevation']"
   ]
  },
  {
   "cell_type": "code",
   "execution_count": 20,
   "metadata": {},
   "outputs": [
    {
     "data": {
      "text/html": [
       "<div>\n",
       "<style scoped>\n",
       "    .dataframe tbody tr th:only-of-type {\n",
       "        vertical-align: middle;\n",
       "    }\n",
       "\n",
       "    .dataframe tbody tr th {\n",
       "        vertical-align: top;\n",
       "    }\n",
       "\n",
       "    .dataframe thead th {\n",
       "        text-align: right;\n",
       "    }\n",
       "</style>\n",
       "<table border=\"1\" class=\"dataframe\">\n",
       "  <thead>\n",
       "    <tr style=\"text-align: right;\">\n",
       "      <th></th>\n",
       "      <th>Baseline</th>\n",
       "      <th>UG1 Network+Node+Elevation</th>\n",
       "      <th>UG2 Network+Node+Elevation</th>\n",
       "      <th>UG3 Network+Node+Elevation</th>\n",
       "      <th>UG1_diff</th>\n",
       "      <th>UG2_diff</th>\n",
       "      <th>UG3_diff</th>\n",
       "    </tr>\n",
       "  </thead>\n",
       "  <tbody>\n",
       "    <tr>\n",
       "      <th>0</th>\n",
       "      <td>5.779995</td>\n",
       "      <td>1.387189</td>\n",
       "      <td>0.000000</td>\n",
       "      <td>0.000000</td>\n",
       "      <td>4.392806</td>\n",
       "      <td>5.779995</td>\n",
       "      <td>5.779995</td>\n",
       "    </tr>\n",
       "    <tr>\n",
       "      <th>1</th>\n",
       "      <td>5.779995</td>\n",
       "      <td>1.387189</td>\n",
       "      <td>0.000000</td>\n",
       "      <td>0.000000</td>\n",
       "      <td>4.392806</td>\n",
       "      <td>5.779995</td>\n",
       "      <td>5.779995</td>\n",
       "    </tr>\n",
       "    <tr>\n",
       "      <th>2</th>\n",
       "      <td>9.914821</td>\n",
       "      <td>9.686386</td>\n",
       "      <td>7.400217</td>\n",
       "      <td>4.966901</td>\n",
       "      <td>0.228435</td>\n",
       "      <td>2.514604</td>\n",
       "      <td>2.514604</td>\n",
       "    </tr>\n",
       "    <tr>\n",
       "      <th>3</th>\n",
       "      <td>9.914821</td>\n",
       "      <td>9.686386</td>\n",
       "      <td>7.400217</td>\n",
       "      <td>4.966901</td>\n",
       "      <td>0.228435</td>\n",
       "      <td>2.514604</td>\n",
       "      <td>2.514604</td>\n",
       "    </tr>\n",
       "    <tr>\n",
       "      <th>4</th>\n",
       "      <td>9.914821</td>\n",
       "      <td>9.686386</td>\n",
       "      <td>7.400217</td>\n",
       "      <td>4.966901</td>\n",
       "      <td>0.228435</td>\n",
       "      <td>2.514604</td>\n",
       "      <td>2.514604</td>\n",
       "    </tr>\n",
       "    <tr>\n",
       "      <th>...</th>\n",
       "      <td>...</td>\n",
       "      <td>...</td>\n",
       "      <td>...</td>\n",
       "      <td>...</td>\n",
       "      <td>...</td>\n",
       "      <td>...</td>\n",
       "      <td>...</td>\n",
       "    </tr>\n",
       "    <tr>\n",
       "      <th>49037</th>\n",
       "      <td>7.909613</td>\n",
       "      <td>7.307682</td>\n",
       "      <td>6.179019</td>\n",
       "      <td>4.642198</td>\n",
       "      <td>0.601931</td>\n",
       "      <td>1.730594</td>\n",
       "      <td>1.730594</td>\n",
       "    </tr>\n",
       "    <tr>\n",
       "      <th>49038</th>\n",
       "      <td>7.910426</td>\n",
       "      <td>7.309605</td>\n",
       "      <td>6.178522</td>\n",
       "      <td>4.643814</td>\n",
       "      <td>0.600821</td>\n",
       "      <td>1.731904</td>\n",
       "      <td>1.731904</td>\n",
       "    </tr>\n",
       "    <tr>\n",
       "      <th>49039</th>\n",
       "      <td>7.909620</td>\n",
       "      <td>7.307697</td>\n",
       "      <td>6.179015</td>\n",
       "      <td>4.642211</td>\n",
       "      <td>0.601923</td>\n",
       "      <td>1.730605</td>\n",
       "      <td>1.730605</td>\n",
       "    </tr>\n",
       "    <tr>\n",
       "      <th>49040</th>\n",
       "      <td>7.937756</td>\n",
       "      <td>7.785505</td>\n",
       "      <td>6.659394</td>\n",
       "      <td>4.177272</td>\n",
       "      <td>0.152250</td>\n",
       "      <td>1.278361</td>\n",
       "      <td>1.278361</td>\n",
       "    </tr>\n",
       "    <tr>\n",
       "      <th>49041</th>\n",
       "      <td>7.922992</td>\n",
       "      <td>7.778083</td>\n",
       "      <td>6.648903</td>\n",
       "      <td>4.165577</td>\n",
       "      <td>0.144909</td>\n",
       "      <td>1.274089</td>\n",
       "      <td>1.274089</td>\n",
       "    </tr>\n",
       "  </tbody>\n",
       "</table>\n",
       "<p>49042 rows × 7 columns</p>\n",
       "</div>"
      ],
      "text/plain": [
       "       Baseline  UG1 Network+Node+Elevation  UG2 Network+Node+Elevation  \\\n",
       "0      5.779995                    1.387189                    0.000000   \n",
       "1      5.779995                    1.387189                    0.000000   \n",
       "2      9.914821                    9.686386                    7.400217   \n",
       "3      9.914821                    9.686386                    7.400217   \n",
       "4      9.914821                    9.686386                    7.400217   \n",
       "...         ...                         ...                         ...   \n",
       "49037  7.909613                    7.307682                    6.179019   \n",
       "49038  7.910426                    7.309605                    6.178522   \n",
       "49039  7.909620                    7.307697                    6.179015   \n",
       "49040  7.937756                    7.785505                    6.659394   \n",
       "49041  7.922992                    7.778083                    6.648903   \n",
       "\n",
       "       UG3 Network+Node+Elevation  UG1_diff  UG2_diff  UG3_diff  \n",
       "0                        0.000000  4.392806  5.779995  5.779995  \n",
       "1                        0.000000  4.392806  5.779995  5.779995  \n",
       "2                        4.966901  0.228435  2.514604  2.514604  \n",
       "3                        4.966901  0.228435  2.514604  2.514604  \n",
       "4                        4.966901  0.228435  2.514604  2.514604  \n",
       "...                           ...       ...       ...       ...  \n",
       "49037                    4.642198  0.601931  1.730594  1.730594  \n",
       "49038                    4.643814  0.600821  1.731904  1.731904  \n",
       "49039                    4.642211  0.601923  1.730605  1.730605  \n",
       "49040                    4.177272  0.152250  1.278361  1.278361  \n",
       "49041                    4.165577  0.144909  1.274089  1.274089  \n",
       "\n",
       "[49042 rows x 7 columns]"
      ]
     },
     "execution_count": 20,
     "metadata": {},
     "output_type": "execute_result"
    }
   ],
   "source": [
    "df_difference"
   ]
  },
  {
   "cell_type": "code",
   "execution_count": 26,
   "metadata": {},
   "outputs": [
    {
     "data": {
      "text/plain": [
       "Baseline                      5305\n",
       "UG1 Network+Node+Elevation    5305\n",
       "UG2 Network+Node+Elevation    5305\n",
       "UG3 Network+Node+Elevation    5305\n",
       "UG1_diff                      5305\n",
       "UG2_diff                      5305\n",
       "UG3_diff                      5305\n",
       "dtype: int64"
      ]
     },
     "execution_count": 26,
     "metadata": {},
     "output_type": "execute_result"
    }
   ],
   "source": [
    "df_difference[df_difference['UG1_diff'] < 0].count()"
   ]
  },
  {
   "cell_type": "code",
   "execution_count": 27,
   "metadata": {},
   "outputs": [
    {
     "data": {
      "text/plain": [
       "Baseline                      1430\n",
       "UG1 Network+Node+Elevation    1430\n",
       "UG2 Network+Node+Elevation    1430\n",
       "UG3 Network+Node+Elevation    1430\n",
       "UG1_diff                      1430\n",
       "UG2_diff                      1430\n",
       "UG3_diff                      1430\n",
       "dtype: int64"
      ]
     },
     "execution_count": 27,
     "metadata": {},
     "output_type": "execute_result"
    }
   ],
   "source": [
    "df_difference[df_difference['UG2_diff'] < 0].count()"
   ]
  },
  {
   "cell_type": "code",
   "execution_count": 28,
   "metadata": {},
   "outputs": [
    {
     "data": {
      "text/plain": [
       "Baseline                      297\n",
       "UG1 Network+Node+Elevation    297\n",
       "UG2 Network+Node+Elevation    297\n",
       "UG3 Network+Node+Elevation    297\n",
       "UG1_diff                      297\n",
       "UG2_diff                      297\n",
       "UG3_diff                      297\n",
       "dtype: int64"
      ]
     },
     "execution_count": 28,
     "metadata": {},
     "output_type": "execute_result"
    }
   ],
   "source": [
    "df_difference[df_difference['UG3_diff'] < 0].count()"
   ]
  },
  {
   "cell_type": "code",
   "execution_count": 31,
   "metadata": {},
   "outputs": [
    {
     "data": {
      "text/plain": [
       "7032"
      ]
     },
     "execution_count": 31,
     "metadata": {},
     "output_type": "execute_result"
    }
   ],
   "source": [
    "5305+1430+ 297"
   ]
  },
  {
   "cell_type": "markdown",
   "metadata": {},
   "source": [
    "Conclusion: There are 7,032 (14.3%) points where the KNN-Access Score for Network+Node+Elevation is lower than the Baseline, which are incorrect."
   ]
  },
  {
   "cell_type": "markdown",
   "metadata": {},
   "source": [
    "# Fixable Baseline"
   ]
  },
  {
   "cell_type": "markdown",
   "metadata": {},
   "source": [
    "Differences between UG1 Elevation and UG1 Network+Node+Elevation, UG2 Elevation and UG2 Network+Node+Elevation, UG3 Elevation and UG3 Network+Node+Elevation"
   ]
  },
  {
   "cell_type": "code",
   "execution_count": 33,
   "metadata": {},
   "outputs": [],
   "source": [
    "df_gap= df[['UG1 Elevation', 'UG2 Elevation','UG3 Elevation','UG1 Network+Node+Elevation','UG2 Network+Node+Elevation','UG3 Network+Node+Elevation']]"
   ]
  },
  {
   "cell_type": "code",
   "execution_count": 35,
   "metadata": {},
   "outputs": [
    {
     "data": {
      "text/html": [
       "<div>\n",
       "<style scoped>\n",
       "    .dataframe tbody tr th:only-of-type {\n",
       "        vertical-align: middle;\n",
       "    }\n",
       "\n",
       "    .dataframe tbody tr th {\n",
       "        vertical-align: top;\n",
       "    }\n",
       "\n",
       "    .dataframe thead th {\n",
       "        text-align: right;\n",
       "    }\n",
       "</style>\n",
       "<table border=\"1\" class=\"dataframe\">\n",
       "  <thead>\n",
       "    <tr style=\"text-align: right;\">\n",
       "      <th></th>\n",
       "      <th>UG1 Elevation</th>\n",
       "      <th>UG2 Elevation</th>\n",
       "      <th>UG3 Elevation</th>\n",
       "      <th>UG1 Network+Node+Elevation</th>\n",
       "      <th>UG2 Network+Node+Elevation</th>\n",
       "      <th>UG3 Network+Node+Elevation</th>\n",
       "    </tr>\n",
       "  </thead>\n",
       "  <tbody>\n",
       "    <tr>\n",
       "      <th>0</th>\n",
       "      <td>5.761933</td>\n",
       "      <td>5.727985</td>\n",
       "      <td>5.608296</td>\n",
       "      <td>1.387189</td>\n",
       "      <td>0.000000</td>\n",
       "      <td>0.000000</td>\n",
       "    </tr>\n",
       "    <tr>\n",
       "      <th>1</th>\n",
       "      <td>5.761933</td>\n",
       "      <td>5.727985</td>\n",
       "      <td>5.608296</td>\n",
       "      <td>1.387189</td>\n",
       "      <td>0.000000</td>\n",
       "      <td>0.000000</td>\n",
       "    </tr>\n",
       "    <tr>\n",
       "      <th>2</th>\n",
       "      <td>9.851188</td>\n",
       "      <td>9.740542</td>\n",
       "      <td>9.728332</td>\n",
       "      <td>9.686386</td>\n",
       "      <td>7.400217</td>\n",
       "      <td>4.966901</td>\n",
       "    </tr>\n",
       "    <tr>\n",
       "      <th>3</th>\n",
       "      <td>9.851188</td>\n",
       "      <td>9.740542</td>\n",
       "      <td>9.728332</td>\n",
       "      <td>9.686386</td>\n",
       "      <td>7.400217</td>\n",
       "      <td>4.966901</td>\n",
       "    </tr>\n",
       "    <tr>\n",
       "      <th>4</th>\n",
       "      <td>9.851188</td>\n",
       "      <td>9.740542</td>\n",
       "      <td>9.728332</td>\n",
       "      <td>9.686386</td>\n",
       "      <td>7.400217</td>\n",
       "      <td>4.966901</td>\n",
       "    </tr>\n",
       "  </tbody>\n",
       "</table>\n",
       "</div>"
      ],
      "text/plain": [
       "   UG1 Elevation  UG2 Elevation  UG3 Elevation  UG1 Network+Node+Elevation  \\\n",
       "0       5.761933       5.727985       5.608296                    1.387189   \n",
       "1       5.761933       5.727985       5.608296                    1.387189   \n",
       "2       9.851188       9.740542       9.728332                    9.686386   \n",
       "3       9.851188       9.740542       9.728332                    9.686386   \n",
       "4       9.851188       9.740542       9.728332                    9.686386   \n",
       "\n",
       "   UG2 Network+Node+Elevation  UG3 Network+Node+Elevation  \n",
       "0                    0.000000                    0.000000  \n",
       "1                    0.000000                    0.000000  \n",
       "2                    7.400217                    4.966901  \n",
       "3                    7.400217                    4.966901  \n",
       "4                    7.400217                    4.966901  "
      ]
     },
     "execution_count": 35,
     "metadata": {},
     "output_type": "execute_result"
    }
   ],
   "source": [
    "df_gap.head()"
   ]
  },
  {
   "cell_type": "code",
   "execution_count": 36,
   "metadata": {},
   "outputs": [
    {
     "name": "stderr",
     "output_type": "stream",
     "text": [
      "/var/folders/zm/x5dzdlrs5mlbxrm7z5g6p05r0000gn/T/ipykernel_99016/691118760.py:1: SettingWithCopyWarning: \n",
      "A value is trying to be set on a copy of a slice from a DataFrame.\n",
      "Try using .loc[row_indexer,col_indexer] = value instead\n",
      "\n",
      "See the caveats in the documentation: https://pandas.pydata.org/pandas-docs/stable/user_guide/indexing.html#returning-a-view-versus-a-copy\n",
      "  df_gap['UG1_gap'] =  df_gap['UG1 Elevation'] - df_gap['UG1 Network+Node+Elevation']\n",
      "/var/folders/zm/x5dzdlrs5mlbxrm7z5g6p05r0000gn/T/ipykernel_99016/691118760.py:2: SettingWithCopyWarning: \n",
      "A value is trying to be set on a copy of a slice from a DataFrame.\n",
      "Try using .loc[row_indexer,col_indexer] = value instead\n",
      "\n",
      "See the caveats in the documentation: https://pandas.pydata.org/pandas-docs/stable/user_guide/indexing.html#returning-a-view-versus-a-copy\n",
      "  df_gap['UG2_gap'] =  df_gap['UG2 Elevation'] - df_gap['UG2 Network+Node+Elevation']\n",
      "/var/folders/zm/x5dzdlrs5mlbxrm7z5g6p05r0000gn/T/ipykernel_99016/691118760.py:3: SettingWithCopyWarning: \n",
      "A value is trying to be set on a copy of a slice from a DataFrame.\n",
      "Try using .loc[row_indexer,col_indexer] = value instead\n",
      "\n",
      "See the caveats in the documentation: https://pandas.pydata.org/pandas-docs/stable/user_guide/indexing.html#returning-a-view-versus-a-copy\n",
      "  df_gap['UG3_gap'] =  df_gap['UG3 Elevation'] - df_gap['UG3 Network+Node+Elevation']\n"
     ]
    }
   ],
   "source": [
    "df_gap['UG1_gap'] =  df_gap['UG1 Elevation'] - df_gap['UG1 Network+Node+Elevation']\n",
    "df_gap['UG2_gap'] =  df_gap['UG2 Elevation'] - df_gap['UG2 Network+Node+Elevation']\n",
    "df_gap['UG3_gap'] =  df_gap['UG3 Elevation'] - df_gap['UG3 Network+Node+Elevation']"
   ]
  },
  {
   "cell_type": "code",
   "execution_count": 37,
   "metadata": {},
   "outputs": [
    {
     "data": {
      "text/plain": [
       "UG1 Elevation                 7977\n",
       "UG2 Elevation                 7977\n",
       "UG3 Elevation                 7977\n",
       "UG1 Network+Node+Elevation    7977\n",
       "UG2 Network+Node+Elevation    7977\n",
       "UG3 Network+Node+Elevation    7977\n",
       "UG1_gap                       7977\n",
       "UG2_gap                       7977\n",
       "UG3_gap                       7977\n",
       "dtype: int64"
      ]
     },
     "execution_count": 37,
     "metadata": {},
     "output_type": "execute_result"
    }
   ],
   "source": [
    "df_gap[df_gap['UG1_gap'] < 0].count()"
   ]
  },
  {
   "cell_type": "code",
   "execution_count": 38,
   "metadata": {},
   "outputs": [
    {
     "data": {
      "text/plain": [
       "UG1 Elevation                 1927\n",
       "UG2 Elevation                 1927\n",
       "UG3 Elevation                 1927\n",
       "UG1 Network+Node+Elevation    1927\n",
       "UG2 Network+Node+Elevation    1927\n",
       "UG3 Network+Node+Elevation    1927\n",
       "UG1_gap                       1927\n",
       "UG2_gap                       1927\n",
       "UG3_gap                       1927\n",
       "dtype: int64"
      ]
     },
     "execution_count": 38,
     "metadata": {},
     "output_type": "execute_result"
    }
   ],
   "source": [
    "df_gap[df_gap['UG2_gap'] < 0].count()"
   ]
  },
  {
   "cell_type": "code",
   "execution_count": 39,
   "metadata": {},
   "outputs": [
    {
     "data": {
      "text/plain": [
       "UG1 Elevation                 570\n",
       "UG2 Elevation                 570\n",
       "UG3 Elevation                 570\n",
       "UG1 Network+Node+Elevation    570\n",
       "UG2 Network+Node+Elevation    570\n",
       "UG3 Network+Node+Elevation    570\n",
       "UG1_gap                       570\n",
       "UG2_gap                       570\n",
       "UG3_gap                       570\n",
       "dtype: int64"
      ]
     },
     "execution_count": 39,
     "metadata": {},
     "output_type": "execute_result"
    }
   ],
   "source": [
    "df_gap[df_gap['UG3_gap'] < 0].count()"
   ]
  },
  {
   "cell_type": "markdown",
   "metadata": {},
   "source": [
    "Conclusion: There are 10,474 (21.4%) points where the KNN-Access Score for Network+Node+Elevation is lower than the Elevation (Fixable Baseline), which are incorrect.\n"
   ]
  }
 ],
 "metadata": {
  "kernelspec": {
   "display_name": "project-sidewalk",
   "language": "python",
   "name": "python3"
  },
  "language_info": {
   "codemirror_mode": {
    "name": "ipython",
    "version": 3
   },
   "file_extension": ".py",
   "mimetype": "text/x-python",
   "name": "python",
   "nbconvert_exporter": "python",
   "pygments_lexer": "ipython3",
   "version": "3.10.6"
  }
 },
 "nbformat": 4,
 "nbformat_minor": 2
}

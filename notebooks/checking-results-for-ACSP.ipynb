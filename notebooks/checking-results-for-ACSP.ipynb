{
 "cells": [
  {
   "cell_type": "code",
   "execution_count": 2,
   "metadata": {},
   "outputs": [],
   "source": [
    "import geopandas as gpd\n",
    "import pandas as pd\n",
    "import numpy as np"
   ]
  },
  {
   "cell_type": "code",
   "execution_count": 3,
   "metadata": {},
   "outputs": [],
   "source": [
    "# read in KNN-Access data analysis results \n",
    "df = gpd.read_file('../data/aziz-final/Seattle Output Files/origin_record.geojson')"
   ]
  },
  {
   "cell_type": "code",
   "execution_count": 4,
   "metadata": {},
   "outputs": [
    {
     "data": {
      "text/html": [
       "<div>\n",
       "<style scoped>\n",
       "    .dataframe tbody tr th:only-of-type {\n",
       "        vertical-align: middle;\n",
       "    }\n",
       "\n",
       "    .dataframe tbody tr th {\n",
       "        vertical-align: top;\n",
       "    }\n",
       "\n",
       "    .dataframe thead th {\n",
       "        text-align: right;\n",
       "    }\n",
       "</style>\n",
       "<table border=\"1\" class=\"dataframe\">\n",
       "  <thead>\n",
       "    <tr style=\"text-align: right;\">\n",
       "      <th></th>\n",
       "      <th>Baseline</th>\n",
       "      <th>UG1 Network</th>\n",
       "      <th>UG2 Network</th>\n",
       "      <th>UG3 Network</th>\n",
       "      <th>UG1 Node</th>\n",
       "      <th>UG2 Node</th>\n",
       "      <th>UG3 Node</th>\n",
       "      <th>UG1 Elevation</th>\n",
       "      <th>UG2 Elevation</th>\n",
       "      <th>UG3 Elevation</th>\n",
       "      <th>UG1 Network+Node</th>\n",
       "      <th>UG2 Network+Node</th>\n",
       "      <th>UG3 Network+Node</th>\n",
       "      <th>UG1 Network+Node+Elevation</th>\n",
       "      <th>UG2 Network+Node+Elevation</th>\n",
       "      <th>UG3 Network+Node+Elevation</th>\n",
       "      <th>geometry</th>\n",
       "    </tr>\n",
       "  </thead>\n",
       "  <tbody>\n",
       "    <tr>\n",
       "      <th>0</th>\n",
       "      <td>5.779995</td>\n",
       "      <td>2.214172</td>\n",
       "      <td>0.728205</td>\n",
       "      <td>0.000000</td>\n",
       "      <td>5.474603</td>\n",
       "      <td>0.455625</td>\n",
       "      <td>0.000000</td>\n",
       "      <td>5.761933</td>\n",
       "      <td>5.727985</td>\n",
       "      <td>5.608296</td>\n",
       "      <td>1.740703</td>\n",
       "      <td>0.000000</td>\n",
       "      <td>0.000000</td>\n",
       "      <td>1.387189</td>\n",
       "      <td>0.000000</td>\n",
       "      <td>0.000000</td>\n",
       "      <td>POINT (1260267.129 243780.167)</td>\n",
       "    </tr>\n",
       "    <tr>\n",
       "      <th>1</th>\n",
       "      <td>5.779995</td>\n",
       "      <td>2.214172</td>\n",
       "      <td>0.728205</td>\n",
       "      <td>0.000000</td>\n",
       "      <td>5.474603</td>\n",
       "      <td>0.455625</td>\n",
       "      <td>0.000000</td>\n",
       "      <td>5.761933</td>\n",
       "      <td>5.727985</td>\n",
       "      <td>5.608296</td>\n",
       "      <td>1.740703</td>\n",
       "      <td>0.000000</td>\n",
       "      <td>0.000000</td>\n",
       "      <td>1.387189</td>\n",
       "      <td>0.000000</td>\n",
       "      <td>0.000000</td>\n",
       "      <td>POINT (1260267.129 243780.167)</td>\n",
       "    </tr>\n",
       "    <tr>\n",
       "      <th>2</th>\n",
       "      <td>9.914821</td>\n",
       "      <td>9.753530</td>\n",
       "      <td>7.781496</td>\n",
       "      <td>5.035237</td>\n",
       "      <td>9.895874</td>\n",
       "      <td>9.858677</td>\n",
       "      <td>9.825177</td>\n",
       "      <td>9.851188</td>\n",
       "      <td>9.740542</td>\n",
       "      <td>9.728332</td>\n",
       "      <td>9.741421</td>\n",
       "      <td>7.866494</td>\n",
       "      <td>5.037969</td>\n",
       "      <td>9.686386</td>\n",
       "      <td>7.400217</td>\n",
       "      <td>4.966901</td>\n",
       "      <td>POINT (1260483.365 243274.057)</td>\n",
       "    </tr>\n",
       "    <tr>\n",
       "      <th>3</th>\n",
       "      <td>9.914821</td>\n",
       "      <td>9.753530</td>\n",
       "      <td>7.781496</td>\n",
       "      <td>5.035237</td>\n",
       "      <td>9.895874</td>\n",
       "      <td>9.858677</td>\n",
       "      <td>9.825177</td>\n",
       "      <td>9.851188</td>\n",
       "      <td>9.740542</td>\n",
       "      <td>9.728332</td>\n",
       "      <td>9.741421</td>\n",
       "      <td>7.866494</td>\n",
       "      <td>5.037969</td>\n",
       "      <td>9.686386</td>\n",
       "      <td>7.400217</td>\n",
       "      <td>4.966901</td>\n",
       "      <td>POINT (1260483.365 243274.057)</td>\n",
       "    </tr>\n",
       "    <tr>\n",
       "      <th>4</th>\n",
       "      <td>9.914821</td>\n",
       "      <td>9.753530</td>\n",
       "      <td>7.781496</td>\n",
       "      <td>5.035237</td>\n",
       "      <td>9.895874</td>\n",
       "      <td>9.858677</td>\n",
       "      <td>9.825177</td>\n",
       "      <td>9.851188</td>\n",
       "      <td>9.740542</td>\n",
       "      <td>9.728332</td>\n",
       "      <td>9.741421</td>\n",
       "      <td>7.866494</td>\n",
       "      <td>5.037969</td>\n",
       "      <td>9.686386</td>\n",
       "      <td>7.400217</td>\n",
       "      <td>4.966901</td>\n",
       "      <td>POINT (1260483.365 243274.057)</td>\n",
       "    </tr>\n",
       "  </tbody>\n",
       "</table>\n",
       "</div>"
      ],
      "text/plain": [
       "   Baseline  UG1 Network  UG2 Network  UG3 Network  UG1 Node  UG2 Node  \\\n",
       "0  5.779995     2.214172     0.728205     0.000000  5.474603  0.455625   \n",
       "1  5.779995     2.214172     0.728205     0.000000  5.474603  0.455625   \n",
       "2  9.914821     9.753530     7.781496     5.035237  9.895874  9.858677   \n",
       "3  9.914821     9.753530     7.781496     5.035237  9.895874  9.858677   \n",
       "4  9.914821     9.753530     7.781496     5.035237  9.895874  9.858677   \n",
       "\n",
       "   UG3 Node  UG1 Elevation  UG2 Elevation  UG3 Elevation  UG1 Network+Node  \\\n",
       "0  0.000000       5.761933       5.727985       5.608296          1.740703   \n",
       "1  0.000000       5.761933       5.727985       5.608296          1.740703   \n",
       "2  9.825177       9.851188       9.740542       9.728332          9.741421   \n",
       "3  9.825177       9.851188       9.740542       9.728332          9.741421   \n",
       "4  9.825177       9.851188       9.740542       9.728332          9.741421   \n",
       "\n",
       "   UG2 Network+Node  UG3 Network+Node  UG1 Network+Node+Elevation  \\\n",
       "0          0.000000          0.000000                    1.387189   \n",
       "1          0.000000          0.000000                    1.387189   \n",
       "2          7.866494          5.037969                    9.686386   \n",
       "3          7.866494          5.037969                    9.686386   \n",
       "4          7.866494          5.037969                    9.686386   \n",
       "\n",
       "   UG2 Network+Node+Elevation  UG3 Network+Node+Elevation  \\\n",
       "0                    0.000000                    0.000000   \n",
       "1                    0.000000                    0.000000   \n",
       "2                    7.400217                    4.966901   \n",
       "3                    7.400217                    4.966901   \n",
       "4                    7.400217                    4.966901   \n",
       "\n",
       "                         geometry  \n",
       "0  POINT (1260267.129 243780.167)  \n",
       "1  POINT (1260267.129 243780.167)  \n",
       "2  POINT (1260483.365 243274.057)  \n",
       "3  POINT (1260483.365 243274.057)  \n",
       "4  POINT (1260483.365 243274.057)  "
      ]
     },
     "execution_count": 4,
     "metadata": {},
     "output_type": "execute_result"
    }
   ],
   "source": [
    "df.head()"
   ]
  },
  {
   "cell_type": "markdown",
   "metadata": {},
   "source": [
    "# Differences between Baseline and UG1, UG2, UG3"
   ]
  },
  {
   "cell_type": "code",
   "execution_count": 48,
   "metadata": {},
   "outputs": [],
   "source": [
    "df_difference= df.copy()"
   ]
  },
  {
   "cell_type": "code",
   "execution_count": 49,
   "metadata": {},
   "outputs": [
    {
     "data": {
      "text/html": [
       "<div>\n",
       "<style scoped>\n",
       "    .dataframe tbody tr th:only-of-type {\n",
       "        vertical-align: middle;\n",
       "    }\n",
       "\n",
       "    .dataframe tbody tr th {\n",
       "        vertical-align: top;\n",
       "    }\n",
       "\n",
       "    .dataframe thead th {\n",
       "        text-align: right;\n",
       "    }\n",
       "</style>\n",
       "<table border=\"1\" class=\"dataframe\">\n",
       "  <thead>\n",
       "    <tr style=\"text-align: right;\">\n",
       "      <th></th>\n",
       "      <th>Baseline</th>\n",
       "      <th>UG1 Network</th>\n",
       "      <th>UG2 Network</th>\n",
       "      <th>UG3 Network</th>\n",
       "      <th>UG1 Node</th>\n",
       "      <th>UG2 Node</th>\n",
       "      <th>UG3 Node</th>\n",
       "      <th>UG1 Elevation</th>\n",
       "      <th>UG2 Elevation</th>\n",
       "      <th>UG3 Elevation</th>\n",
       "      <th>UG1 Network+Node</th>\n",
       "      <th>UG2 Network+Node</th>\n",
       "      <th>UG3 Network+Node</th>\n",
       "      <th>UG1 Network+Node+Elevation</th>\n",
       "      <th>UG2 Network+Node+Elevation</th>\n",
       "      <th>UG3 Network+Node+Elevation</th>\n",
       "      <th>geometry</th>\n",
       "    </tr>\n",
       "  </thead>\n",
       "  <tbody>\n",
       "    <tr>\n",
       "      <th>0</th>\n",
       "      <td>5.779995</td>\n",
       "      <td>2.214172</td>\n",
       "      <td>0.728205</td>\n",
       "      <td>0.000000</td>\n",
       "      <td>5.474603</td>\n",
       "      <td>0.455625</td>\n",
       "      <td>0.000000</td>\n",
       "      <td>5.761933</td>\n",
       "      <td>5.727985</td>\n",
       "      <td>5.608296</td>\n",
       "      <td>1.740703</td>\n",
       "      <td>0.000000</td>\n",
       "      <td>0.000000</td>\n",
       "      <td>1.387189</td>\n",
       "      <td>0.000000</td>\n",
       "      <td>0.000000</td>\n",
       "      <td>POINT (1260267.129 243780.167)</td>\n",
       "    </tr>\n",
       "    <tr>\n",
       "      <th>1</th>\n",
       "      <td>5.779995</td>\n",
       "      <td>2.214172</td>\n",
       "      <td>0.728205</td>\n",
       "      <td>0.000000</td>\n",
       "      <td>5.474603</td>\n",
       "      <td>0.455625</td>\n",
       "      <td>0.000000</td>\n",
       "      <td>5.761933</td>\n",
       "      <td>5.727985</td>\n",
       "      <td>5.608296</td>\n",
       "      <td>1.740703</td>\n",
       "      <td>0.000000</td>\n",
       "      <td>0.000000</td>\n",
       "      <td>1.387189</td>\n",
       "      <td>0.000000</td>\n",
       "      <td>0.000000</td>\n",
       "      <td>POINT (1260267.129 243780.167)</td>\n",
       "    </tr>\n",
       "    <tr>\n",
       "      <th>2</th>\n",
       "      <td>9.914821</td>\n",
       "      <td>9.753530</td>\n",
       "      <td>7.781496</td>\n",
       "      <td>5.035237</td>\n",
       "      <td>9.895874</td>\n",
       "      <td>9.858677</td>\n",
       "      <td>9.825177</td>\n",
       "      <td>9.851188</td>\n",
       "      <td>9.740542</td>\n",
       "      <td>9.728332</td>\n",
       "      <td>9.741421</td>\n",
       "      <td>7.866494</td>\n",
       "      <td>5.037969</td>\n",
       "      <td>9.686386</td>\n",
       "      <td>7.400217</td>\n",
       "      <td>4.966901</td>\n",
       "      <td>POINT (1260483.365 243274.057)</td>\n",
       "    </tr>\n",
       "    <tr>\n",
       "      <th>3</th>\n",
       "      <td>9.914821</td>\n",
       "      <td>9.753530</td>\n",
       "      <td>7.781496</td>\n",
       "      <td>5.035237</td>\n",
       "      <td>9.895874</td>\n",
       "      <td>9.858677</td>\n",
       "      <td>9.825177</td>\n",
       "      <td>9.851188</td>\n",
       "      <td>9.740542</td>\n",
       "      <td>9.728332</td>\n",
       "      <td>9.741421</td>\n",
       "      <td>7.866494</td>\n",
       "      <td>5.037969</td>\n",
       "      <td>9.686386</td>\n",
       "      <td>7.400217</td>\n",
       "      <td>4.966901</td>\n",
       "      <td>POINT (1260483.365 243274.057)</td>\n",
       "    </tr>\n",
       "    <tr>\n",
       "      <th>4</th>\n",
       "      <td>9.914821</td>\n",
       "      <td>9.753530</td>\n",
       "      <td>7.781496</td>\n",
       "      <td>5.035237</td>\n",
       "      <td>9.895874</td>\n",
       "      <td>9.858677</td>\n",
       "      <td>9.825177</td>\n",
       "      <td>9.851188</td>\n",
       "      <td>9.740542</td>\n",
       "      <td>9.728332</td>\n",
       "      <td>9.741421</td>\n",
       "      <td>7.866494</td>\n",
       "      <td>5.037969</td>\n",
       "      <td>9.686386</td>\n",
       "      <td>7.400217</td>\n",
       "      <td>4.966901</td>\n",
       "      <td>POINT (1260483.365 243274.057)</td>\n",
       "    </tr>\n",
       "  </tbody>\n",
       "</table>\n",
       "</div>"
      ],
      "text/plain": [
       "   Baseline  UG1 Network  UG2 Network  UG3 Network  UG1 Node  UG2 Node  \\\n",
       "0  5.779995     2.214172     0.728205     0.000000  5.474603  0.455625   \n",
       "1  5.779995     2.214172     0.728205     0.000000  5.474603  0.455625   \n",
       "2  9.914821     9.753530     7.781496     5.035237  9.895874  9.858677   \n",
       "3  9.914821     9.753530     7.781496     5.035237  9.895874  9.858677   \n",
       "4  9.914821     9.753530     7.781496     5.035237  9.895874  9.858677   \n",
       "\n",
       "   UG3 Node  UG1 Elevation  UG2 Elevation  UG3 Elevation  UG1 Network+Node  \\\n",
       "0  0.000000       5.761933       5.727985       5.608296          1.740703   \n",
       "1  0.000000       5.761933       5.727985       5.608296          1.740703   \n",
       "2  9.825177       9.851188       9.740542       9.728332          9.741421   \n",
       "3  9.825177       9.851188       9.740542       9.728332          9.741421   \n",
       "4  9.825177       9.851188       9.740542       9.728332          9.741421   \n",
       "\n",
       "   UG2 Network+Node  UG3 Network+Node  UG1 Network+Node+Elevation  \\\n",
       "0          0.000000          0.000000                    1.387189   \n",
       "1          0.000000          0.000000                    1.387189   \n",
       "2          7.866494          5.037969                    9.686386   \n",
       "3          7.866494          5.037969                    9.686386   \n",
       "4          7.866494          5.037969                    9.686386   \n",
       "\n",
       "   UG2 Network+Node+Elevation  UG3 Network+Node+Elevation  \\\n",
       "0                    0.000000                    0.000000   \n",
       "1                    0.000000                    0.000000   \n",
       "2                    7.400217                    4.966901   \n",
       "3                    7.400217                    4.966901   \n",
       "4                    7.400217                    4.966901   \n",
       "\n",
       "                         geometry  \n",
       "0  POINT (1260267.129 243780.167)  \n",
       "1  POINT (1260267.129 243780.167)  \n",
       "2  POINT (1260483.365 243274.057)  \n",
       "3  POINT (1260483.365 243274.057)  \n",
       "4  POINT (1260483.365 243274.057)  "
      ]
     },
     "execution_count": 49,
     "metadata": {},
     "output_type": "execute_result"
    }
   ],
   "source": [
    "df_difference.head()"
   ]
  },
  {
   "cell_type": "code",
   "execution_count": 50,
   "metadata": {},
   "outputs": [],
   "source": [
    "df_difference.loc[:,'UG1_diff'] =  df_difference['Baseline'] - df_difference['UG1 Network+Node+Elevation']\n",
    "df_difference.loc[:,'UG2_diff'] =  df_difference['Baseline'] - df_difference['UG2 Network+Node+Elevation']\n",
    "df_difference.loc[:,'UG3_diff'] =  df_difference['Baseline'] - df_difference['UG3 Network+Node+Elevation']"
   ]
  },
  {
   "cell_type": "code",
   "execution_count": 53,
   "metadata": {},
   "outputs": [
    {
     "data": {
      "text/html": [
       "<div>\n",
       "<style scoped>\n",
       "    .dataframe tbody tr th:only-of-type {\n",
       "        vertical-align: middle;\n",
       "    }\n",
       "\n",
       "    .dataframe tbody tr th {\n",
       "        vertical-align: top;\n",
       "    }\n",
       "\n",
       "    .dataframe thead th {\n",
       "        text-align: right;\n",
       "    }\n",
       "</style>\n",
       "<table border=\"1\" class=\"dataframe\">\n",
       "  <thead>\n",
       "    <tr style=\"text-align: right;\">\n",
       "      <th></th>\n",
       "      <th>Baseline</th>\n",
       "      <th>UG1 Network</th>\n",
       "      <th>UG2 Network</th>\n",
       "      <th>UG3 Network</th>\n",
       "      <th>UG1 Node</th>\n",
       "      <th>UG2 Node</th>\n",
       "      <th>UG3 Node</th>\n",
       "      <th>UG1 Elevation</th>\n",
       "      <th>UG2 Elevation</th>\n",
       "      <th>UG3 Elevation</th>\n",
       "      <th>UG1 Network+Node</th>\n",
       "      <th>UG2 Network+Node</th>\n",
       "      <th>UG3 Network+Node</th>\n",
       "      <th>UG1 Network+Node+Elevation</th>\n",
       "      <th>UG2 Network+Node+Elevation</th>\n",
       "      <th>UG3 Network+Node+Elevation</th>\n",
       "      <th>geometry</th>\n",
       "      <th>UG1_diff</th>\n",
       "      <th>UG2_diff</th>\n",
       "      <th>UG3_diff</th>\n",
       "    </tr>\n",
       "  </thead>\n",
       "  <tbody>\n",
       "    <tr>\n",
       "      <th>8072</th>\n",
       "      <td>10.308456</td>\n",
       "      <td>10.743324</td>\n",
       "      <td>12.098166</td>\n",
       "      <td>12.019551</td>\n",
       "      <td>10.502046</td>\n",
       "      <td>10.703707</td>\n",
       "      <td>10.774897</td>\n",
       "      <td>10.300858</td>\n",
       "      <td>10.246919</td>\n",
       "      <td>10.146443</td>\n",
       "      <td>10.726006</td>\n",
       "      <td>12.280040</td>\n",
       "      <td>11.724458</td>\n",
       "      <td>12.035329</td>\n",
       "      <td>12.183715</td>\n",
       "      <td>11.729568</td>\n",
       "      <td>POINT (1259978.431 235906.576)</td>\n",
       "      <td>-1.726873</td>\n",
       "      <td>-1.875259</td>\n",
       "      <td>-1.421112</td>\n",
       "    </tr>\n",
       "    <tr>\n",
       "      <th>8073</th>\n",
       "      <td>10.308456</td>\n",
       "      <td>10.743324</td>\n",
       "      <td>12.098166</td>\n",
       "      <td>12.019551</td>\n",
       "      <td>10.502046</td>\n",
       "      <td>10.703707</td>\n",
       "      <td>10.774897</td>\n",
       "      <td>10.300858</td>\n",
       "      <td>10.246919</td>\n",
       "      <td>10.146443</td>\n",
       "      <td>10.726006</td>\n",
       "      <td>12.280040</td>\n",
       "      <td>11.724458</td>\n",
       "      <td>12.035329</td>\n",
       "      <td>12.183715</td>\n",
       "      <td>11.729568</td>\n",
       "      <td>POINT (1259978.431 235906.576)</td>\n",
       "      <td>-1.726873</td>\n",
       "      <td>-1.875259</td>\n",
       "      <td>-1.421112</td>\n",
       "    </tr>\n",
       "    <tr>\n",
       "      <th>8133</th>\n",
       "      <td>9.782319</td>\n",
       "      <td>10.221341</td>\n",
       "      <td>11.538229</td>\n",
       "      <td>10.196442</td>\n",
       "      <td>9.727513</td>\n",
       "      <td>10.070710</td>\n",
       "      <td>10.070710</td>\n",
       "      <td>9.765491</td>\n",
       "      <td>9.745816</td>\n",
       "      <td>9.698414</td>\n",
       "      <td>11.276601</td>\n",
       "      <td>11.501912</td>\n",
       "      <td>10.196442</td>\n",
       "      <td>11.246284</td>\n",
       "      <td>11.473403</td>\n",
       "      <td>10.069378</td>\n",
       "      <td>POINT (1260287.376 235697.925)</td>\n",
       "      <td>-1.463965</td>\n",
       "      <td>-1.691084</td>\n",
       "      <td>-0.287059</td>\n",
       "    </tr>\n",
       "    <tr>\n",
       "      <th>7691</th>\n",
       "      <td>10.529486</td>\n",
       "      <td>12.051083</td>\n",
       "      <td>12.062269</td>\n",
       "      <td>12.143656</td>\n",
       "      <td>10.557400</td>\n",
       "      <td>10.686363</td>\n",
       "      <td>10.778946</td>\n",
       "      <td>10.477464</td>\n",
       "      <td>10.420799</td>\n",
       "      <td>10.317854</td>\n",
       "      <td>12.032906</td>\n",
       "      <td>12.245251</td>\n",
       "      <td>11.680980</td>\n",
       "      <td>11.992378</td>\n",
       "      <td>12.150416</td>\n",
       "      <td>11.687654</td>\n",
       "      <td>POINT (1259856.944 235927.639)</td>\n",
       "      <td>-1.462892</td>\n",
       "      <td>-1.620930</td>\n",
       "      <td>-1.158168</td>\n",
       "    </tr>\n",
       "    <tr>\n",
       "      <th>40263</th>\n",
       "      <td>11.055004</td>\n",
       "      <td>11.531872</td>\n",
       "      <td>11.746219</td>\n",
       "      <td>7.485552</td>\n",
       "      <td>11.063871</td>\n",
       "      <td>11.091083</td>\n",
       "      <td>11.091083</td>\n",
       "      <td>11.079159</td>\n",
       "      <td>11.002118</td>\n",
       "      <td>11.025171</td>\n",
       "      <td>11.564818</td>\n",
       "      <td>11.190323</td>\n",
       "      <td>7.485552</td>\n",
       "      <td>12.516534</td>\n",
       "      <td>10.761929</td>\n",
       "      <td>6.494224</td>\n",
       "      <td>POINT (1262784.703 231433.477)</td>\n",
       "      <td>-1.461530</td>\n",
       "      <td>0.293075</td>\n",
       "      <td>4.560780</td>\n",
       "    </tr>\n",
       "  </tbody>\n",
       "</table>\n",
       "</div>"
      ],
      "text/plain": [
       "        Baseline  UG1 Network  UG2 Network  UG3 Network   UG1 Node   UG2 Node  \\\n",
       "8072   10.308456    10.743324    12.098166    12.019551  10.502046  10.703707   \n",
       "8073   10.308456    10.743324    12.098166    12.019551  10.502046  10.703707   \n",
       "8133    9.782319    10.221341    11.538229    10.196442   9.727513  10.070710   \n",
       "7691   10.529486    12.051083    12.062269    12.143656  10.557400  10.686363   \n",
       "40263  11.055004    11.531872    11.746219     7.485552  11.063871  11.091083   \n",
       "\n",
       "        UG3 Node  UG1 Elevation  UG2 Elevation  UG3 Elevation  \\\n",
       "8072   10.774897      10.300858      10.246919      10.146443   \n",
       "8073   10.774897      10.300858      10.246919      10.146443   \n",
       "8133   10.070710       9.765491       9.745816       9.698414   \n",
       "7691   10.778946      10.477464      10.420799      10.317854   \n",
       "40263  11.091083      11.079159      11.002118      11.025171   \n",
       "\n",
       "       UG1 Network+Node  UG2 Network+Node  UG3 Network+Node  \\\n",
       "8072          10.726006         12.280040         11.724458   \n",
       "8073          10.726006         12.280040         11.724458   \n",
       "8133          11.276601         11.501912         10.196442   \n",
       "7691          12.032906         12.245251         11.680980   \n",
       "40263         11.564818         11.190323          7.485552   \n",
       "\n",
       "       UG1 Network+Node+Elevation  UG2 Network+Node+Elevation  \\\n",
       "8072                    12.035329                   12.183715   \n",
       "8073                    12.035329                   12.183715   \n",
       "8133                    11.246284                   11.473403   \n",
       "7691                    11.992378                   12.150416   \n",
       "40263                   12.516534                   10.761929   \n",
       "\n",
       "       UG3 Network+Node+Elevation                        geometry  UG1_diff  \\\n",
       "8072                    11.729568  POINT (1259978.431 235906.576) -1.726873   \n",
       "8073                    11.729568  POINT (1259978.431 235906.576) -1.726873   \n",
       "8133                    10.069378  POINT (1260287.376 235697.925) -1.463965   \n",
       "7691                    11.687654  POINT (1259856.944 235927.639) -1.462892   \n",
       "40263                    6.494224  POINT (1262784.703 231433.477) -1.461530   \n",
       "\n",
       "       UG2_diff  UG3_diff  \n",
       "8072  -1.875259 -1.421112  \n",
       "8073  -1.875259 -1.421112  \n",
       "8133  -1.691084 -0.287059  \n",
       "7691  -1.620930 -1.158168  \n",
       "40263  0.293075  4.560780  "
      ]
     },
     "execution_count": 53,
     "metadata": {},
     "output_type": "execute_result"
    }
   ],
   "source": [
    "df_difference.sort_values(by='UG1_diff').head()"
   ]
  },
  {
   "cell_type": "code",
   "execution_count": 54,
   "metadata": {},
   "outputs": [
    {
     "data": {
      "text/plain": [
       "5305"
      ]
     },
     "execution_count": 54,
     "metadata": {},
     "output_type": "execute_result"
    }
   ],
   "source": [
    "df_difference[df_difference['UG1_diff'] < 0].count().iloc[0]"
   ]
  },
  {
   "cell_type": "code",
   "execution_count": 55,
   "metadata": {},
   "outputs": [
    {
     "data": {
      "text/plain": [
       "1430"
      ]
     },
     "execution_count": 55,
     "metadata": {},
     "output_type": "execute_result"
    }
   ],
   "source": [
    "df_difference[df_difference['UG2_diff'] < 0].count().iloc[0]"
   ]
  },
  {
   "cell_type": "code",
   "execution_count": 56,
   "metadata": {},
   "outputs": [
    {
     "data": {
      "text/plain": [
       "297"
      ]
     },
     "execution_count": 56,
     "metadata": {},
     "output_type": "execute_result"
    }
   ],
   "source": [
    "df_difference[df_difference['UG3_diff'] < 0].count().iloc[0]"
   ]
  },
  {
   "cell_type": "code",
   "execution_count": 58,
   "metadata": {},
   "outputs": [
    {
     "name": "stdout",
     "output_type": "stream",
     "text": [
      "7032 0.143\n"
     ]
    }
   ],
   "source": [
    "print (5305 + 1430 + 297, round((5305 + 1430 + 297)/df_difference.shape[0], 3))"
   ]
  },
  {
   "cell_type": "markdown",
   "metadata": {},
   "source": [
    "Conclusion: There are 7,032 (14.3%) points where the KNN-Access Score for Network+Node+Elevation is lower than the Baseline, which are incorrect."
   ]
  },
  {
   "cell_type": "markdown",
   "metadata": {},
   "source": [
    "# Accessibility Gap V1"
   ]
  },
  {
   "cell_type": "markdown",
   "metadata": {},
   "source": [
    "Accessibility Gap = UG_X Elevation - UG_X Network+Node+Elevation "
   ]
  },
  {
   "cell_type": "code",
   "execution_count": 18,
   "metadata": {},
   "outputs": [],
   "source": [
    "df_gap_1= df.copy()"
   ]
  },
  {
   "cell_type": "code",
   "execution_count": 19,
   "metadata": {},
   "outputs": [],
   "source": [
    "df_gap_1.loc[:, 'UG1_gap'] = df_gap_1['UG1 Elevation'] - df_gap_1['UG1 Network+Node+Elevation']\n",
    "df_gap_1.loc[:, 'UG2_gap'] = df_gap_1['UG2 Elevation'] - df_gap_1['UG2 Network+Node+Elevation']\n",
    "df_gap_1.loc[:, 'UG3_gap'] = df_gap_1['UG3 Elevation'] - df_gap_1['UG3 Network+Node+Elevation']"
   ]
  },
  {
   "cell_type": "code",
   "execution_count": 24,
   "metadata": {},
   "outputs": [
    {
     "data": {
      "text/plain": [
       "7977"
      ]
     },
     "execution_count": 24,
     "metadata": {},
     "output_type": "execute_result"
    }
   ],
   "source": [
    "df_gap_1[df_gap_1['UG1_gap'] < 0].count().iloc[0]"
   ]
  },
  {
   "cell_type": "code",
   "execution_count": 25,
   "metadata": {},
   "outputs": [
    {
     "data": {
      "text/plain": [
       "1927"
      ]
     },
     "execution_count": 25,
     "metadata": {},
     "output_type": "execute_result"
    }
   ],
   "source": [
    "df_gap_1[df_gap_1['UG2_gap'] < 0].count().iloc[0]"
   ]
  },
  {
   "cell_type": "code",
   "execution_count": 28,
   "metadata": {},
   "outputs": [
    {
     "data": {
      "text/plain": [
       "570"
      ]
     },
     "execution_count": 28,
     "metadata": {},
     "output_type": "execute_result"
    }
   ],
   "source": [
    "df_gap_1[df_gap_1['UG3_gap'] < 0].count().iloc[0]"
   ]
  },
  {
   "cell_type": "code",
   "execution_count": 36,
   "metadata": {},
   "outputs": [
    {
     "name": "stdout",
     "output_type": "stream",
     "text": [
      "10474 0.214\n"
     ]
    }
   ],
   "source": [
    "print(7977 + 1927 + 570, round((7977 + 1927 + 570) / len(df_gap_1), 3))"
   ]
  },
  {
   "cell_type": "markdown",
   "metadata": {},
   "source": [
    "Conclusion: There are 10,474 (21.4%) points where the accessible gap is negative, which are incorrect.\n"
   ]
  },
  {
   "cell_type": "markdown",
   "metadata": {},
   "source": [
    "# Accessibility Gap V2"
   ]
  },
  {
   "cell_type": "markdown",
   "metadata": {},
   "source": [
    "Accessibility Gap = Baseline - UG_X Network+Node"
   ]
  },
  {
   "cell_type": "code",
   "execution_count": 40,
   "metadata": {},
   "outputs": [],
   "source": [
    "df_gap_2= df.copy()"
   ]
  },
  {
   "cell_type": "code",
   "execution_count": 41,
   "metadata": {},
   "outputs": [],
   "source": [
    "df_gap_2.loc[:, 'UG1_gap'] = df_gap_2['Baseline'] - df_gap_2['UG1 Network+Node']\n",
    "df_gap_2.loc[:, 'UG2_gap'] = df_gap_2['Baseline'] - df_gap_2['UG2 Network+Node']\n",
    "df_gap_2.loc[:, 'UG3_gap'] = df_gap_2['Baseline'] - df_gap_2['UG3 Network+Node']"
   ]
  },
  {
   "cell_type": "code",
   "execution_count": 43,
   "metadata": {},
   "outputs": [
    {
     "data": {
      "text/plain": [
       "7762"
      ]
     },
     "execution_count": 43,
     "metadata": {},
     "output_type": "execute_result"
    }
   ],
   "source": [
    "# accessibility gap < 0 for UG1\n",
    "df_gap_2[df_gap_2['UG1_gap'] < 0].count().iloc[0]"
   ]
  },
  {
   "cell_type": "code",
   "execution_count": 44,
   "metadata": {},
   "outputs": [
    {
     "data": {
      "text/plain": [
       "2699"
      ]
     },
     "execution_count": 44,
     "metadata": {},
     "output_type": "execute_result"
    }
   ],
   "source": [
    "# accessibility gap < 0 for UG2\n",
    "df_gap_2[df_gap_2['UG2_gap'] < 0].count().iloc[0]"
   ]
  },
  {
   "cell_type": "code",
   "execution_count": 46,
   "metadata": {},
   "outputs": [
    {
     "data": {
      "text/plain": [
       "583"
      ]
     },
     "execution_count": 46,
     "metadata": {},
     "output_type": "execute_result"
    }
   ],
   "source": [
    "# accessibility gap < 0 for UG3\n",
    "df_gap_2[df_gap_2['UG3_gap'] < 0].count().iloc[0]"
   ]
  },
  {
   "cell_type": "code",
   "execution_count": 47,
   "metadata": {},
   "outputs": [
    {
     "name": "stdout",
     "output_type": "stream",
     "text": [
      "11044 0.225\n"
     ]
    }
   ],
   "source": [
    "print(7762 + 2699 + 583, round((7762 + 2699 + 583) / len(df_gap_2), 3))"
   ]
  },
  {
   "cell_type": "markdown",
   "metadata": {},
   "source": [
    "Conclusion: There are 11,044 (22.5%) points where the accessible gap is negative, which are incorrect."
   ]
  }
 ],
 "metadata": {
  "kernelspec": {
   "display_name": "project-sidewalk",
   "language": "python",
   "name": "python3"
  },
  "language_info": {
   "codemirror_mode": {
    "name": "ipython",
    "version": 3
   },
   "file_extension": ".py",
   "mimetype": "text/x-python",
   "name": "python",
   "nbconvert_exporter": "python",
   "pygments_lexer": "ipython3",
   "version": "3.10.6"
  }
 },
 "nbformat": 4,
 "nbformat_minor": 2
}

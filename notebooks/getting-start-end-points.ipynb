{
 "cells": [
  {
   "cell_type": "code",
   "execution_count": 1,
   "metadata": {},
   "outputs": [],
   "source": [
    "import geopandas as gpd\n",
    "from shapely.geometry import LineString, Point"
   ]
  },
  {
   "cell_type": "code",
   "execution_count": 8,
   "metadata": {},
   "outputs": [],
   "source": [
    "#read in data\n",
    "pedestrian_network = gpd.read_file('../data/cleaned-pednetwork/cleaned-pednetwork-full/cleaned-pednetwork-full.shp')"
   ]
  },
  {
   "cell_type": "code",
   "execution_count": 9,
   "metadata": {},
   "outputs": [],
   "source": [
    "# get the start and end points of each line \n",
    "start_points = pedestrian_network.geometry.apply(lambda x: x.coords[0])\n",
    "end_points = pedestrian_network.geometry.apply(lambda x: x.coords[-1])\n",
    "start_points = [Point(x) for x in start_points]\n",
    "end_points = [Point(x) for x in end_points]\n",
    "start_points = gpd.GeoDataFrame(geometry=start_points)\n",
    "end_points = gpd.GeoDataFrame(geometry=end_points)\n",
    "start_points['type'] = 'start'\n",
    "end_points['type'] = 'end'\n",
    "# start_points['id'] = pedestrian_network.index\n",
    "# end_points['id'] = pedestrian_network.index"
   ]
  },
  {
   "cell_type": "code",
   "execution_count": 12,
   "metadata": {},
   "outputs": [],
   "source": [
    "# save file \n",
    "start_points.to_file('../data/cleaned-pednetwork/process-files/start-ending-points/start_points.shp')"
   ]
  },
  {
   "cell_type": "code",
   "execution_count": 13,
   "metadata": {},
   "outputs": [],
   "source": [
    "end_points.to_file('../data/cleaned-pednetwork/process-files/start-ending-points/end_points.shp')"
   ]
  }
 ],
 "metadata": {
  "kernelspec": {
   "display_name": "project-sidewalk",
   "language": "python",
   "name": "python3"
  },
  "language_info": {
   "codemirror_mode": {
    "name": "ipython",
    "version": 3
   },
   "file_extension": ".py",
   "mimetype": "text/x-python",
   "name": "python",
   "nbconvert_exporter": "python",
   "pygments_lexer": "ipython3",
   "version": "3.10.6"
  }
 },
 "nbformat": 4,
 "nbformat_minor": 2
}
